{
 "cells": [
  {
   "cell_type": "code",
   "execution_count": 125,
   "metadata": {},
   "outputs": [],
   "source": [
    "from selenium import webdriver\n",
    "from selenium.webdriver.chrome.service import Service\n",
    "from selenium.webdriver.common.keys import Keys\n",
    "from selenium.webdriver.common.by import By\n",
    "from selenium.webdriver.support.ui import WebDriverWait\n",
    "from selenium.webdriver.support import expected_conditions as EC\n",
    "from selenium.common.exceptions import StaleElementReferenceException\n",
    "from selenium.common.exceptions import ElementClickInterceptedException, TimeoutException, StaleElementReferenceException\n",
    "from selenium import webdriver\n",
    "from bs4 import BeautifulSoup as bs\n",
    "import re as re\n",
    "import time\n",
    "import pandas as pd\n",
    "import time"
   ]
  },
  {
   "cell_type": "code",
   "execution_count": 117,
   "metadata": {},
   "outputs": [
    {
     "name": "stdout",
     "output_type": "stream",
     "text": [
      "/Users/strangemax/chromedriver/chromedriver\n",
      "doctorstrange247@gmail.com\n",
      "Ziran247\n"
     ]
    }
   ],
   "source": [
    "PATH = \"/Users/strangemax/chromedriver/chromedriver\"\n",
    "service = Service(PATH)\n",
    "USERNAME = \"doctorstrange247@gmail.com\"\n",
    "PASSWORD = \"Ziran247\"\n",
    "print(PATH)\n",
    "print(USERNAME)\n",
    "print(PASSWORD)"
   ]
  },
  {
   "cell_type": "code",
   "execution_count": 134,
   "metadata": {},
   "outputs": [],
   "source": [
    "driver = webdriver.Chrome(service=service)"
   ]
  },
  {
   "cell_type": "code",
   "execution_count": 135,
   "metadata": {},
   "outputs": [],
   "source": [
    "#driver.get(\"https://www.linkedin.com/jobs/search/?currentJobId=4016828070&geoId=91000015&keywords=physiotherapy&origin=JOB_SEARCH_PAGE_SEARCH_BUTTON&refresh=true\")\n",
    "driver.get(\"https://www.linkedin.com/login?fromSignIn=true&trk=guest_homepage-basic_nav-header-signin\")\n",
    "time.sleep(3)"
   ]
  },
  {
   "cell_type": "code",
   "execution_count": 137,
   "metadata": {},
   "outputs": [
    {
     "ename": "TimeoutException",
     "evalue": "Message: \nStacktrace:\n0   chromedriver                        0x00000001006a79d4 cxxbridge1$str$ptr + 3647524\n1   chromedriver                        0x00000001006a0234 cxxbridge1$str$ptr + 3616900\n2   chromedriver                        0x000000010010c10c cxxbridge1$string$len + 88416\n3   chromedriver                        0x000000010014e338 cxxbridge1$string$len + 359308\n4   chromedriver                        0x0000000100187b10 cxxbridge1$string$len + 594788\n5   chromedriver                        0x0000000100142f34 cxxbridge1$string$len + 313224\n6   chromedriver                        0x0000000100143ba4 cxxbridge1$string$len + 316408\n7   chromedriver                        0x000000010067261c cxxbridge1$str$ptr + 3429484\n8   chromedriver                        0x0000000100675958 cxxbridge1$str$ptr + 3442600\n9   chromedriver                        0x0000000100659344 cxxbridge1$str$ptr + 3326356\n10  chromedriver                        0x000000010067621c cxxbridge1$str$ptr + 3444844\n11  chromedriver                        0x000000010064a5cc cxxbridge1$str$ptr + 3265564\n12  chromedriver                        0x0000000100690c98 cxxbridge1$str$ptr + 3554024\n13  chromedriver                        0x0000000100690e14 cxxbridge1$str$ptr + 3554404\n14  chromedriver                        0x000000010069fecc cxxbridge1$str$ptr + 3616028\n15  libsystem_pthread.dylib             0x00000001952a6f94 _pthread_start + 136\n16  libsystem_pthread.dylib             0x00000001952a1d34 thread_start + 8\n",
     "output_type": "error",
     "traceback": [
      "\u001b[0;31m---------------------------------------------------------------------------\u001b[0m",
      "\u001b[0;31mTimeoutException\u001b[0m                          Traceback (most recent call last)",
      "Cell \u001b[0;32mIn[137], line 1\u001b[0m\n\u001b[0;32m----> 1\u001b[0m email \u001b[38;5;241m=\u001b[39m WebDriverWait(driver, \u001b[38;5;241m10\u001b[39m)\u001b[38;5;241m.\u001b[39muntil(\n\u001b[1;32m      2\u001b[0m     EC\u001b[38;5;241m.\u001b[39mpresence_of_element_located((By\u001b[38;5;241m.\u001b[39mID, \u001b[38;5;124m\"\u001b[39m\u001b[38;5;124musername\u001b[39m\u001b[38;5;124m\"\u001b[39m)) \u001b[38;5;66;03m# delay 10sec before sending the username\u001b[39;00m\n\u001b[1;32m      3\u001b[0m )\n\u001b[1;32m      4\u001b[0m email\u001b[38;5;241m.\u001b[39msend_keys(USERNAME)\n\u001b[1;32m      5\u001b[0m password\u001b[38;5;241m=\u001b[39mdriver\u001b[38;5;241m.\u001b[39mfind_element(By\u001b[38;5;241m.\u001b[39mID, \u001b[38;5;124m\"\u001b[39m\u001b[38;5;124mpassword\u001b[39m\u001b[38;5;124m\"\u001b[39m)\n",
      "File \u001b[0;32m/opt/anaconda3/lib/python3.11/site-packages/selenium/webdriver/support/wait.py:105\u001b[0m, in \u001b[0;36mWebDriverWait.until\u001b[0;34m(self, method, message)\u001b[0m\n\u001b[1;32m    103\u001b[0m     \u001b[38;5;28;01mif\u001b[39;00m time\u001b[38;5;241m.\u001b[39mmonotonic() \u001b[38;5;241m>\u001b[39m end_time:\n\u001b[1;32m    104\u001b[0m         \u001b[38;5;28;01mbreak\u001b[39;00m\n\u001b[0;32m--> 105\u001b[0m \u001b[38;5;28;01mraise\u001b[39;00m TimeoutException(message, screen, stacktrace)\n",
      "\u001b[0;31mTimeoutException\u001b[0m: Message: \nStacktrace:\n0   chromedriver                        0x00000001006a79d4 cxxbridge1$str$ptr + 3647524\n1   chromedriver                        0x00000001006a0234 cxxbridge1$str$ptr + 3616900\n2   chromedriver                        0x000000010010c10c cxxbridge1$string$len + 88416\n3   chromedriver                        0x000000010014e338 cxxbridge1$string$len + 359308\n4   chromedriver                        0x0000000100187b10 cxxbridge1$string$len + 594788\n5   chromedriver                        0x0000000100142f34 cxxbridge1$string$len + 313224\n6   chromedriver                        0x0000000100143ba4 cxxbridge1$string$len + 316408\n7   chromedriver                        0x000000010067261c cxxbridge1$str$ptr + 3429484\n8   chromedriver                        0x0000000100675958 cxxbridge1$str$ptr + 3442600\n9   chromedriver                        0x0000000100659344 cxxbridge1$str$ptr + 3326356\n10  chromedriver                        0x000000010067621c cxxbridge1$str$ptr + 3444844\n11  chromedriver                        0x000000010064a5cc cxxbridge1$str$ptr + 3265564\n12  chromedriver                        0x0000000100690c98 cxxbridge1$str$ptr + 3554024\n13  chromedriver                        0x0000000100690e14 cxxbridge1$str$ptr + 3554404\n14  chromedriver                        0x000000010069fecc cxxbridge1$str$ptr + 3616028\n15  libsystem_pthread.dylib             0x00000001952a6f94 _pthread_start + 136\n16  libsystem_pthread.dylib             0x00000001952a1d34 thread_start + 8\n"
     ]
    }
   ],
   "source": [
    "email = WebDriverWait(driver, 10).until(\n",
    "    EC.presence_of_element_located((By.ID, \"username\")) # delay 10sec before sending the username\n",
    ")\n",
    "email.send_keys(USERNAME)\n",
    "password=driver.find_element(By.ID, \"password\")\n",
    "password.send_keys(PASSWORD)\n",
    "time.sleep(3)\n",
    "password.send_keys(Keys.RETURN) #emulate pressing the enter key"
   ]
  },
  {
   "cell_type": "code",
   "execution_count": 177,
   "metadata": {},
   "outputs": [],
   "source": [
    "driver.get(\"https://www.linkedin.com/jobs/search/?currentJobId=4066004541&distance=25.0&f_TPR=r86400&f_WT=1&geoId=91000015&keywords=physiotherapy&origin=JOB_SEARCH_PAGE_JOB_FILTER&spellCorrectionEnabled=true\")\n",
    "time.sleep(3)"
   ]
  },
  {
   "cell_type": "code",
   "execution_count": 178,
   "metadata": {},
   "outputs": [
    {
     "name": "stdout",
     "output_type": "stream",
     "text": [
      "No more pages or timed out waiting for the next page.\n",
      "{'job_link': ['https://www.linkedin.com/jobs/view/4066991808/?eBP=NOT_ELIGIBLE_FOR_CHARGING&refId=i54jd%2F8qMqcpz9AJL99Ezg%3D%3D&trackingId=vqeI7TOhLoMzqbcYst7U%2Bw%3D%3D&trk=flagship3_search_srp_jobs', 'https://www.linkedin.com/jobs/view/4066004541/?eBP=NOT_ELIGIBLE_FOR_CHARGING&refId=i54jd%2F8qMqcpz9AJL99Ezg%3D%3D&trackingId=%2Fmle6z%2FIh4%2FCmGUP0Ztp6A%3D%3D&trk=flagship3_search_srp_jobs', 'https://www.linkedin.com/jobs/view/4067767833/?eBP=NOT_ELIGIBLE_FOR_CHARGING&refId=i54jd%2F8qMqcpz9AJL99Ezg%3D%3D&trackingId=GFyBRtgCKLMhEwShrlM%2BnA%3D%3D&trk=flagship3_search_srp_jobs', 'https://www.linkedin.com/jobs/view/4066001812/?eBP=NOT_ELIGIBLE_FOR_CHARGING&refId=i54jd%2F8qMqcpz9AJL99Ezg%3D%3D&trackingId=5ijMa7uhn7J3OyFurUqgDw%3D%3D&trk=flagship3_search_srp_jobs', 'https://www.linkedin.com/jobs/view/4067760709/?eBP=NOT_ELIGIBLE_FOR_CHARGING&refId=i54jd%2F8qMqcpz9AJL99Ezg%3D%3D&trackingId=ro42M8RQpHzXeee0PQzkKw%3D%3D&trk=flagship3_search_srp_jobs', 'https://www.linkedin.com/jobs/view/4067747047/?eBP=NOT_ELIGIBLE_FOR_CHARGING&refId=i54jd%2F8qMqcpz9AJL99Ezg%3D%3D&trackingId=6vmystFhjiWfsONQEC5KsQ%3D%3D&trk=flagship3_search_srp_jobs', 'https://www.linkedin.com/jobs/view/4066024222/?eBP=NOT_ELIGIBLE_FOR_CHARGING&refId=i54jd%2F8qMqcpz9AJL99Ezg%3D%3D&trackingId=z0mTJ8iNKEZRI4Mzpq2j7w%3D%3D&trk=flagship3_search_srp_jobs', 'https://www.linkedin.com/jobs/view/4066999152/?eBP=NOT_ELIGIBLE_FOR_CHARGING&refId=i54jd%2F8qMqcpz9AJL99Ezg%3D%3D&trackingId=6XhMtvmFleEcTGK054xVAA%3D%3D&trk=flagship3_search_srp_jobs', 'https://www.linkedin.com/jobs/view/4067537259/?eBP=NOT_ELIGIBLE_FOR_CHARGING&refId=i54jd%2F8qMqcpz9AJL99Ezg%3D%3D&trackingId=U2ovPQTNoOrVmOF08hxSFQ%3D%3D&trk=flagship3_search_srp_jobs', 'https://www.linkedin.com/jobs/view/4066024327/?eBP=NOT_ELIGIBLE_FOR_CHARGING&refId=i54jd%2F8qMqcpz9AJL99Ezg%3D%3D&trackingId=Xgb%2Bmb5bN%2Br8tGXoL6uTrA%3D%3D&trk=flagship3_search_srp_jobs', 'https://www.linkedin.com/jobs/view/3980568670/?eBP=NOT_ELIGIBLE_FOR_CHARGING&refId=i54jd%2F8qMqcpz9AJL99Ezg%3D%3D&trackingId=HHsDpn4j6pLHuYFynFVRbg%3D%3D&trk=flagship3_search_srp_jobs', 'https://www.linkedin.com/jobs/view/4066023493/?eBP=NOT_ELIGIBLE_FOR_CHARGING&refId=i54jd%2F8qMqcpz9AJL99Ezg%3D%3D&trackingId=WXtQQCuP2C3FKasriBaVSA%3D%3D&trk=flagship3_search_srp_jobs', 'https://www.linkedin.com/jobs/view/3980569711/?eBP=NOT_ELIGIBLE_FOR_CHARGING&refId=i54jd%2F8qMqcpz9AJL99Ezg%3D%3D&trackingId=jFOzlhGcstzo%2BQFOpXSpHw%3D%3D&trk=flagship3_search_srp_jobs', 'https://www.linkedin.com/jobs/view/3980568666/?eBP=NOT_ELIGIBLE_FOR_CHARGING&refId=i54jd%2F8qMqcpz9AJL99Ezg%3D%3D&trackingId=cq8a0yGCDj6reG48fw3O1w%3D%3D&trk=flagship3_search_srp_jobs', 'https://www.linkedin.com/jobs/view/3980571219/?eBP=NOT_ELIGIBLE_FOR_CHARGING&refId=i54jd%2F8qMqcpz9AJL99Ezg%3D%3D&trackingId=XT9e2fnDJRGcmiafo%2FSN9Q%3D%3D&trk=flagship3_search_srp_jobs', 'https://www.linkedin.com/jobs/view/4064793050/?eBP=NOT_ELIGIBLE_FOR_CHARGING&refId=i54jd%2F8qMqcpz9AJL99Ezg%3D%3D&trackingId=4fw7mIa5yCUfPSUvKafFQQ%3D%3D&trk=flagship3_search_srp_jobs', 'https://www.linkedin.com/jobs/view/4030860047/?eBP=NOT_ELIGIBLE_FOR_CHARGING&refId=i54jd%2F8qMqcpz9AJL99Ezg%3D%3D&trackingId=TQrlECrd4Fijl8SH7pIqOg%3D%3D&trk=flagship3_search_srp_jobs', 'https://www.linkedin.com/jobs/view/4064785748/?eBP=NOT_ELIGIBLE_FOR_CHARGING&refId=i54jd%2F8qMqcpz9AJL99Ezg%3D%3D&trackingId=pk2%2F6fQ3UmL%2Bv6n9rERGsg%3D%3D&trk=flagship3_search_srp_jobs', 'https://www.linkedin.com/jobs/view/4062458927/?eBP=NOT_ELIGIBLE_FOR_CHARGING&refId=i54jd%2F8qMqcpz9AJL99Ezg%3D%3D&trackingId=Z0p6Dw284bn3xkBzS%2FQ13A%3D%3D&trk=flagship3_search_srp_jobs', 'https://www.linkedin.com/jobs/view/4058976373/?eBP=NOT_ELIGIBLE_FOR_CHARGING&refId=i54jd%2F8qMqcpz9AJL99Ezg%3D%3D&trackingId=2oLXc6EvZZgotvoh82Vyig%3D%3D&trk=flagship3_search_srp_jobs', 'https://www.linkedin.com/jobs/view/3958523306/?eBP=NOT_ELIGIBLE_FOR_CHARGING&refId=i54jd%2F8qMqcpz9AJL99Ezg%3D%3D&trackingId=JYJywZAxROECF82CVXF9TA%3D%3D&trk=flagship3_search_srp_jobs', 'https://www.linkedin.com/jobs/view/4065310956/?eBP=NOT_ELIGIBLE_FOR_CHARGING&refId=i54jd%2F8qMqcpz9AJL99Ezg%3D%3D&trackingId=ev1yehOft%2F1wFPsqxlv0Tw%3D%3D&trk=flagship3_search_srp_jobs', 'https://www.linkedin.com/jobs/view/4060589251/?eBP=NOT_ELIGIBLE_FOR_CHARGING&refId=i54jd%2F8qMqcpz9AJL99Ezg%3D%3D&trackingId=iJMVwPF4WfgQRMivV0W9%2FQ%3D%3D&trk=flagship3_search_srp_jobs', 'https://www.linkedin.com/jobs/view/4065519934/?eBP=NOT_ELIGIBLE_FOR_CHARGING&refId=i54jd%2F8qMqcpz9AJL99Ezg%3D%3D&trackingId=VgQAeAHKefTA9reJVtRTDQ%3D%3D&trk=flagship3_search_srp_jobs', 'https://www.linkedin.com/jobs/view/4047544778/?eBP=NOT_ELIGIBLE_FOR_CHARGING&refId=i54jd%2F8qMqcpz9AJL99Ezg%3D%3D&trackingId=lv4ocJb%2Blzi1hHQJVLfotw%3D%3D&trk=flagship3_search_srp_jobs', 'https://www.linkedin.com/premium/products/?upsellOrderOrigin=premium_job_details_how_you_fit_upsell&utype=coach_job&referenceId=pBDlWiO0RVG2e8wY%2BBfP0Q%3D%3D', 'https://www.linkedin.com/jobs/view/3944837638/?eBP=NOT_ELIGIBLE_FOR_CHARGING&refId=XtFUaR88FKR3aysFnllcpw%3D%3D&trackingId=Jr06JlYU7SHbwZt78ANBvg%3D%3D&trk=flagship3_search_srp_jobs', 'https://www.linkedin.com/jobs/view/3979790905/?eBP=NOT_ELIGIBLE_FOR_CHARGING&refId=XtFUaR88FKR3aysFnllcpw%3D%3D&trackingId=GkzhIz6B9E1kMZ72IhSI%2FQ%3D%3D&trk=flagship3_search_srp_jobs', 'https://www.linkedin.com/jobs/view/3961681017/?eBP=NOT_ELIGIBLE_FOR_CHARGING&refId=XtFUaR88FKR3aysFnllcpw%3D%3D&trackingId=c%2BEZs0MPq7DI3cv0l3Mdvg%3D%3D&trk=flagship3_search_srp_jobs', 'https://www.linkedin.com/jobs/view/3979172710/?eBP=NOT_ELIGIBLE_FOR_CHARGING&refId=XtFUaR88FKR3aysFnllcpw%3D%3D&trackingId=Iw7kU5Sqx7QhlQUt2%2BtPnQ%3D%3D&trk=flagship3_search_srp_jobs', 'https://www.linkedin.com/jobs/collections/recommended/?currentJobId=3974286147&eBP=CwEAAAGS9TMaLEJve0MPg54ZytpQganfmgFk3GUxTNvxfXmyuSpIrDP-qdk0yYnXO5F1lELNMrXXHfi-c5bh21qG8QER8mdH2jnbQXgsMUUUz12aXNOQi0NHCDL3u579gx7iQCcCFFh6L-hOJ4xSr3nf0sxIuDhjZDzXPkG6FqC27EHm7H0b6bRoDXnRYM-XxxnpC7YeAC-3MnBS--cDRUMVN17BidYMgd_FCUp0g4dtI3Msz9l_4nf8I1ZIFpLDMW4ZMYA1OPOBiwGmFk91UOooMznJg5_5e9ZEfJpZ3HT90vFvJr7SXobfp-nP4_kxcUb8DUV09j4HNk1P_2P19hqcFVsxpWz5iA9YyKhJ8Y0m3ODw7i9jH99-1COZd12ZnnYPWn9cFaA9gM6tx96tN8GSZ0hD-d4jGIAaEkUSeOVS41qrQCaUtGZ4-8FiCSbyoAJaQPVmnSxa164kW74BcSbT_H5ig9UbrqWHNTN-dR07&refId=6IkYmzLg7KfnKsTAML0Ntw%3D%3D&trackingId=JJ5dZJBf0OshMtn%2Fgzq%2B4w%3D%3D', 'https://www.linkedin.com/jobs/collections/recommended/?currentJobId=3974284292&eBP=CwEAAAGS9TMaLFL1t3nPwg2Bs498E_IrzJn5TUjuA-i2vAGxn_hH_cmc9dMNBt59-a0rqbwx7ft5RgpMluYQNR9sw2vlAEPHURaqUnsk62uOIj8uHz6fwz0SYdId9d9ZgTp7uZO5EWc2LCRfSjUGYc3FegNiOABHm7GJO25joJGHavKj6J1jOzDAMsWbvgWJzmbXk5VTevy-IRe_kL-p3_DdRZiU91TWStODzstsXL9v4hjK2dIsIQjWYlZJrw88G6ifDsp2zcugwD_WW24RPNzw6QqL8_QyKj-ZOF3XM18w6dKDP4dyK7VUqmop1a_hkbDEJqu6HH_qNk1v9fO8jTkVQD9Pts_ksEyMoWmMn6-HKqS-JXTSYFUIn90guMtN47dpvVO-f5YySiJyRgLhVgOrICWrsS4HCNxuiKTASf_B9EJUJGZTE3xzdEptYneLDftvYUX8fH6pBzczpzn8iab418icBubhrd2EjYhEGwRC&refId=6IkYmzLg7KfnKsTAML0Ntw%3D%3D&trackingId=RM5naskTbGSMtYSVwvoRWw%3D%3D', 'https://www.linkedin.com/jobs/collections/recommended/?currentJobId=4029128244&eBP=CwEAAAGS9TMaLPubin-n9uKElyLYKN4aIpy9VnNRPobc2OUBnRd9drcus7zM_hr5D5a2bVX2BrOHXQZnUZLi4gOyhV0HlA58hauS08hGS9Hil8ceD-CjFpakrXdbK6XXkxn0qWUpFVlB0pKzsUC3mC-kRTYqVToJtfunkPxP1izSp78a1-Qz8VG8diwSKZr2QCWCppEcnb6kprvRr6ZV0yKMrb9UACTiIy3Zwu1hJN4yqeQPv43WCQvUoe0AVV1klv9-NYstO-i_SLXGVCZsu7tPXa2A3ob744UGQWeYpF8oupFijcL7Ti3YWRZayXYtcyHIN6WpkAND6cjv8JAEospiORi5jAsRyyfmXmTXgaKNaIRp6oaNrXajpfacM5WVAM6by7hQGt8aMcXKVtH5i5GeLjxVAmrCLPiME51HmfdIzMJPJ-btK1MHEER_S63bre2yM7f6gNqjp6hysWe2ITeGhG6MgcIj1RzPGFLPp6tVFrMZDg&refId=6IkYmzLg7KfnKsTAML0Ntw%3D%3D&trackingId=Ini7GanrvSzhoi3p7RSSwA%3D%3D', 'https://www.linkedin.com/jobs/search/?currentJobId=4064434877&distance=25.0&eBP=NON_CHARGEABLE_CHANNEL&f_TPR=r604800&f_WT=2&geoId=105365761&keywords=physiotherapy&origin=JOBS_HOME_REMOTE_JOBS&refId=xjS3wBj15Fp3vNw%2BQsSeTQ%3D%3D&spellCorrectionEnabled=true&start=25&trackingId=q%2Fk%2BocSz4cNS5a7t3I2PZw%3D%3D', 'https://www.linkedin.com/jobs/search/?currentJobId=4061039687&distance=25.0&eBP=NON_CHARGEABLE_CHANNEL&f_TPR=r604800&f_WT=2&geoId=105365761&keywords=physiotherapy&origin=JOBS_HOME_REMOTE_JOBS&refId=xjS3wBj15Fp3vNw%2BQsSeTQ%3D%3D&spellCorrectionEnabled=true&start=25&trackingId=SQKFl9j9g5MWzR%2B3DE5svw%3D%3D', 'https://www.linkedin.com/jobs/search/?currentJobId=4067766769&distance=25.0&eBP=NON_CHARGEABLE_CHANNEL&f_TPR=r604800&f_WT=2&geoId=105365761&keywords=physiotherapy&origin=JOBS_HOME_REMOTE_JOBS&refId=xjS3wBj15Fp3vNw%2BQsSeTQ%3D%3D&spellCorrectionEnabled=true&start=25&trackingId=Cn6e7GhUi%2BSOG9lBQTJmUA%3D%3D', 'https://www.linkedin.com/jobs/search/?currentJobId=4061518347&distance=25.0&eBP=NON_CHARGEABLE_CHANNEL&f_TPR=r604800&f_WT=3&geoId=104197452&keywords=physiotherapy&origin=JOBS_HOME_HYBRID_JOBS&refId=5NYrMLtlln1OSVpjPZQ9Hw%3D%3D&spellCorrectionEnabled=true&start=25&trackingId=juzBomfDZ0vhTXrFd7q%2B3Q%3D%3D', 'https://www.linkedin.com/jobs/search/?currentJobId=4062812269&distance=25.0&eBP=NON_CHARGEABLE_CHANNEL&f_TPR=r604800&f_WT=3&geoId=104197452&keywords=physiotherapy&origin=JOBS_HOME_HYBRID_JOBS&refId=5NYrMLtlln1OSVpjPZQ9Hw%3D%3D&spellCorrectionEnabled=true&start=25&trackingId=TlkqRVjLI6lKi7%2F7zh6nCQ%3D%3D', 'https://www.linkedin.com/jobs/search/?currentJobId=4064312423&distance=25.0&eBP=NON_CHARGEABLE_CHANNEL&f_TPR=r604800&f_WT=3&geoId=104197452&keywords=physiotherapy&origin=JOBS_HOME_HYBRID_JOBS&refId=5NYrMLtlln1OSVpjPZQ9Hw%3D%3D&spellCorrectionEnabled=true&start=25&trackingId=%2F%2FBz25n7iP25m7xb26XTOQ%3D%3D', 'https://www.linkedin.com/premium/products/?upsellOrderOrigin=premium_job_details_how_you_fit_upsell&utype=coach_job&referenceId=fE9o55mrTFmPYf7RKB%2FGtw%3D%3D'], 'job_label': ['Allied Health Assistant (Grade 2), Physiotherapy with verification', 'General Practitioners - Mounties Care Guildford NSW', 'Allied Health Graduate Program 2025 - Physio | OT | Speech', 'General Practitioners - Integrative Clinic - Mounties Care Freshwater NSW', 'Podiatrist', 'Occupational Therapy Assistant', 'Language Services Manager with verification', 'Education Assistant - Special Needs with verification', 'Senior Exercise Physiologist', 'Podiatrist -Aged Care Residential Services with verification', 'Allied Health Professionals - Aspen Medical with verification', 'Occupational Therapist - Grade 2 with verification', 'Allied Health Professionals - Aspen Medical with verification', 'Allied Health Professionals - Aspen Medical with verification', 'Allied Health Professionals - Aspen Medical with verification', 'Podiatrist', 'Rehabilitation Consultant - All Disciplines with verification', 'Physiotherapist', 'Physiotherapist Senior', 'Physiotherapist - Grade 2 with verification', 'Physiotherapist - Statewide with verification', 'Exercise Physiologist with verification', 'Trainee Business Services with verification', 'Physiotherapist with verification', 'Casual Hand Therapist with verification', None, 'Duty Store Manager - Tweeds with verification', 'Duty Store Manager - Dee Why with verification', 'Store Manager - Watergardens with verification', 'Store Manager - Northern Suburbs with verification', 'Remote Python Engineer', 'Remote Python Solutions Developer', 'Backend Developer', 'Data Entry Clerk Work From Home - Part-Time Survey Participants', 'Work at Home Data Entry Clerk (Part Time)', 'Entry Level Work From Home', 'Join our Talent Network', 'Digital Marketing Intern', 'Exciting Opportunity!! Apply for the CIG Titans Program and earn up to 5 Million Naira monthly!', None], 'page_number': [1, 1, 1, 1, 1, 1, 1, 1, 1, 1, 1, 1, 1, 1, 1, 1, 1, 1, 1, 1, 1, 1, 1, 1, 1, 1, 2, 2, 2, 2, 2, 2, 2, 2, 2, 2, 2, 2, 2, 2]}\n"
     ]
    }
   ],
   "source": [
    "import time\n",
    "from selenium.webdriver.common.by import By\n",
    "from selenium.webdriver.support.ui import WebDriverWait\n",
    "from selenium.webdriver.support import expected_conditions as EC\n",
    "from selenium.common.exceptions import (\n",
    "    ElementClickInterceptedException, TimeoutException, StaleElementReferenceException\n",
    ")\n",
    "\n",
    "job_links = []\n",
    "job_labels = []\n",
    "page_numbers = []  # New list to store page numbers\n",
    "page_number = 1\n",
    "\n",
    "while True:\n",
    "    try:\n",
    "        # Refresh the list of links on the current page (only once per page)\n",
    "        # Updated XPath to filter only job links\n",
    "        links = driver.find_elements(By.XPATH, '//a[@href and @tabindex=\"0\"]')\n",
    "\n",
    "        for link in links:\n",
    "            try:\n",
    "                if 'footer' in link.find_element(By.XPATH, '..').get_attribute('outerHTML'):\n",
    "                    continue  # Skip this link if it is in the footer\n",
    "                \n",
    "                if \"app-aware-link\" in link.get_attribute(\"class\"):\n",
    "                    continue  # Skip this link if it has the specified class\n",
    "                \n",
    "                # Extract href and aria-label directly as we're already filtered for tabindex=\"0\"\n",
    "                href = link.get_attribute(\"href\")\n",
    "                aria_label = link.get_attribute(\"aria-label\")\n",
    "\n",
    "                # Add the link and its associated aria-label and page number\n",
    "                job_links.append(href)         # Store all links, including duplicates\n",
    "                job_labels.append(aria_label)  # Store labels corresponding to each link\n",
    "                page_numbers.append(page_number)  # Store the current page number\n",
    "                \n",
    "            except StaleElementReferenceException:\n",
    "                # Skip to the next link if the element becomes stale\n",
    "                continue\n",
    "\n",
    "        # Pagination - navigate to the next page if possible\n",
    "        try:\n",
    "            next_button = WebDriverWait(driver, 30).until(\n",
    "                EC.element_to_be_clickable((By.XPATH, f'//button[@aria-label=\"Page {page_number + 1}\"]'))\n",
    "            )\n",
    "            \n",
    "            # Attempt to scroll to and click the \"next\" button\n",
    "            driver.execute_script(\"arguments[0].scrollIntoView(true);\", next_button)\n",
    "            next_button.click()\n",
    "            page_number += 1\n",
    "            time.sleep(2)  # Delay to allow the page to load completely before the next iteration\n",
    "\n",
    "        except (TimeoutException, ElementClickInterceptedException):\n",
    "            print(\"No more pages or timed out waiting for the next page.\")\n",
    "            break\n",
    "\n",
    "    except TimeoutException:\n",
    "        print(\"Timed out waiting for elements on the page.\")\n",
    "        break\n",
    "\n",
    "# Create a dictionary with the job links, labels, and page numbers\n",
    "link_jobs = {\"job_link\": job_links, \"job_label\": job_labels, \"page_number\": page_numbers}\n",
    "print(link_jobs)"
   ]
  },
  {
   "cell_type": "code",
   "execution_count": 182,
   "metadata": {},
   "outputs": [
    {
     "ename": "KeyboardInterrupt",
     "evalue": "",
     "output_type": "error",
     "traceback": [
      "\u001b[0;31m---------------------------------------------------------------------------\u001b[0m",
      "\u001b[0;31mKeyboardInterrupt\u001b[0m                         Traceback (most recent call last)",
      "Cell \u001b[0;32mIn[182], line 17\u001b[0m\n\u001b[1;32m     15\u001b[0m     \u001b[38;5;66;03m# Go back to the previous page\u001b[39;00m\n\u001b[1;32m     16\u001b[0m     driver\u001b[38;5;241m.\u001b[39mback()\n\u001b[0;32m---> 17\u001b[0m     time\u001b[38;5;241m.\u001b[39msleep(\u001b[38;5;241m2\u001b[39m)  \u001b[38;5;66;03m# Wait for the previous page to load\u001b[39;00m\n\u001b[1;32m     19\u001b[0m \u001b[38;5;28;01mexcept\u001b[39;00m \u001b[38;5;167;01mException\u001b[39;00m \u001b[38;5;28;01mas\u001b[39;00m e:\n\u001b[1;32m     20\u001b[0m     \u001b[38;5;28mprint\u001b[39m(\u001b[38;5;124mf\u001b[39m\u001b[38;5;124m\"\u001b[39m\u001b[38;5;124mAn error occurred while visiting \u001b[39m\u001b[38;5;132;01m{\u001b[39;00mjob_link\u001b[38;5;132;01m}\u001b[39;00m\u001b[38;5;124m: \u001b[39m\u001b[38;5;132;01m{\u001b[39;00me\u001b[38;5;132;01m}\u001b[39;00m\u001b[38;5;124m\"\u001b[39m)\n",
      "\u001b[0;31mKeyboardInterrupt\u001b[0m: "
     ]
    }
   ],
   "source": [
    "# Assuming job_links have been collected as per previous code\n",
    "job_details = []  # List to store the details of each job\n",
    "\n",
    "# Iterate through each link in job_links\n",
    "for job_link in job_links:\n",
    "    try:\n",
    "        # Navigate to the job link\n",
    "        driver.get(job_link)\n",
    "        time.sleep(2)  # Wait for the page to load\n",
    "\n",
    "        # Extract the text content from the job details page\n",
    "        page_text = driver.find_element(By.TAG_NAME, \"body\").text  # Get the text of the whole page\n",
    "        job_details.append(page_text)  # Store the text in job_details\n",
    "\n",
    "        # Go back to the previous page\n",
    "        driver.back()\n",
    "        time.sleep(2)  # Wait for the previous page to load\n",
    "\n",
    "    except Exception as e:\n",
    "        print(f\"An error occurred while visiting {job_link}: {e}\")\n",
    "        # Optionally handle the exception (e.g., log it, skip to next, etc.)\n",
    "        continue\n",
    "\n",
    "# Now job_details contains the text content from each job link\n",
    "print(job_details)"
   ]
  },
  {
   "cell_type": "code",
   "execution_count": null,
   "metadata": {},
   "outputs": [],
   "source": [
    "link_jobs = {\"job_link\": job_links, \"job_label\": job_labels, \"page_number\": page_numbers, \"job_details\":job_details}\n",
    "link_jobs"
   ]
  },
  {
   "cell_type": "code",
   "execution_count": 179,
   "metadata": {},
   "outputs": [],
   "source": [
    "df_link_jobs = pd.DataFrame(link_jobs)"
   ]
  },
  {
   "cell_type": "code",
   "execution_count": 180,
   "metadata": {},
   "outputs": [
    {
     "data": {
      "text/html": [
       "<div>\n",
       "<style scoped>\n",
       "    .dataframe tbody tr th:only-of-type {\n",
       "        vertical-align: middle;\n",
       "    }\n",
       "\n",
       "    .dataframe tbody tr th {\n",
       "        vertical-align: top;\n",
       "    }\n",
       "\n",
       "    .dataframe thead th {\n",
       "        text-align: right;\n",
       "    }\n",
       "</style>\n",
       "<table border=\"1\" class=\"dataframe\">\n",
       "  <thead>\n",
       "    <tr style=\"text-align: right;\">\n",
       "      <th></th>\n",
       "      <th>job_link</th>\n",
       "      <th>job_label</th>\n",
       "      <th>page_number</th>\n",
       "    </tr>\n",
       "  </thead>\n",
       "  <tbody>\n",
       "    <tr>\n",
       "      <th>0</th>\n",
       "      <td>https://www.linkedin.com/jobs/view/4066991808/...</td>\n",
       "      <td>Allied Health Assistant (Grade 2), Physiothera...</td>\n",
       "      <td>1</td>\n",
       "    </tr>\n",
       "    <tr>\n",
       "      <th>1</th>\n",
       "      <td>https://www.linkedin.com/jobs/view/4066004541/...</td>\n",
       "      <td>General Practitioners - Mounties Care Guildfor...</td>\n",
       "      <td>1</td>\n",
       "    </tr>\n",
       "    <tr>\n",
       "      <th>2</th>\n",
       "      <td>https://www.linkedin.com/jobs/view/4067767833/...</td>\n",
       "      <td>Allied Health Graduate Program 2025 - Physio |...</td>\n",
       "      <td>1</td>\n",
       "    </tr>\n",
       "    <tr>\n",
       "      <th>3</th>\n",
       "      <td>https://www.linkedin.com/jobs/view/4066001812/...</td>\n",
       "      <td>General Practitioners - Integrative Clinic - M...</td>\n",
       "      <td>1</td>\n",
       "    </tr>\n",
       "    <tr>\n",
       "      <th>4</th>\n",
       "      <td>https://www.linkedin.com/jobs/view/4067760709/...</td>\n",
       "      <td>Podiatrist</td>\n",
       "      <td>1</td>\n",
       "    </tr>\n",
       "    <tr>\n",
       "      <th>5</th>\n",
       "      <td>https://www.linkedin.com/jobs/view/4067747047/...</td>\n",
       "      <td>Occupational Therapy Assistant</td>\n",
       "      <td>1</td>\n",
       "    </tr>\n",
       "    <tr>\n",
       "      <th>6</th>\n",
       "      <td>https://www.linkedin.com/jobs/view/4066024222/...</td>\n",
       "      <td>Language Services Manager with verification</td>\n",
       "      <td>1</td>\n",
       "    </tr>\n",
       "    <tr>\n",
       "      <th>7</th>\n",
       "      <td>https://www.linkedin.com/jobs/view/4066999152/...</td>\n",
       "      <td>Education Assistant - Special Needs with verif...</td>\n",
       "      <td>1</td>\n",
       "    </tr>\n",
       "    <tr>\n",
       "      <th>8</th>\n",
       "      <td>https://www.linkedin.com/jobs/view/4067537259/...</td>\n",
       "      <td>Senior Exercise Physiologist</td>\n",
       "      <td>1</td>\n",
       "    </tr>\n",
       "    <tr>\n",
       "      <th>9</th>\n",
       "      <td>https://www.linkedin.com/jobs/view/4066024327/...</td>\n",
       "      <td>Podiatrist -Aged Care Residential Services wit...</td>\n",
       "      <td>1</td>\n",
       "    </tr>\n",
       "  </tbody>\n",
       "</table>\n",
       "</div>"
      ],
      "text/plain": [
       "                                            job_link  \\\n",
       "0  https://www.linkedin.com/jobs/view/4066991808/...   \n",
       "1  https://www.linkedin.com/jobs/view/4066004541/...   \n",
       "2  https://www.linkedin.com/jobs/view/4067767833/...   \n",
       "3  https://www.linkedin.com/jobs/view/4066001812/...   \n",
       "4  https://www.linkedin.com/jobs/view/4067760709/...   \n",
       "5  https://www.linkedin.com/jobs/view/4067747047/...   \n",
       "6  https://www.linkedin.com/jobs/view/4066024222/...   \n",
       "7  https://www.linkedin.com/jobs/view/4066999152/...   \n",
       "8  https://www.linkedin.com/jobs/view/4067537259/...   \n",
       "9  https://www.linkedin.com/jobs/view/4066024327/...   \n",
       "\n",
       "                                           job_label  page_number  \n",
       "0  Allied Health Assistant (Grade 2), Physiothera...            1  \n",
       "1  General Practitioners - Mounties Care Guildfor...            1  \n",
       "2  Allied Health Graduate Program 2025 - Physio |...            1  \n",
       "3  General Practitioners - Integrative Clinic - M...            1  \n",
       "4                                         Podiatrist            1  \n",
       "5                     Occupational Therapy Assistant            1  \n",
       "6        Language Services Manager with verification            1  \n",
       "7  Education Assistant - Special Needs with verif...            1  \n",
       "8                       Senior Exercise Physiologist            1  \n",
       "9  Podiatrist -Aged Care Residential Services wit...            1  "
      ]
     },
     "execution_count": 180,
     "metadata": {},
     "output_type": "execute_result"
    }
   ],
   "source": [
    "df_link_jobs.head(10)"
   ]
  },
  {
   "cell_type": "code",
   "execution_count": null,
   "metadata": {},
   "outputs": [
    {
     "data": {
      "text/plain": [
       "(40, 3)"
      ]
     },
     "execution_count": 181,
     "metadata": {},
     "output_type": "execute_result"
    }
   ],
   "source": [
    "df_link_jobs.shape"
   ]
  },
  {
   "cell_type": "code",
   "execution_count": null,
   "metadata": {},
   "outputs": [],
   "source": [
    "REMEDIAL MASSAGE THERAPIST - HOME CARE CLIENTS EAST MELBOURNE"
   ]
  }
 ],
 "metadata": {
  "kernelspec": {
   "display_name": "base",
   "language": "python",
   "name": "python3"
  },
  "language_info": {
   "codemirror_mode": {
    "name": "ipython",
    "version": 3
   },
   "file_extension": ".py",
   "mimetype": "text/x-python",
   "name": "python",
   "nbconvert_exporter": "python",
   "pygments_lexer": "ipython3",
   "version": "3.11.7"
  }
 },
 "nbformat": 4,
 "nbformat_minor": 2
}
