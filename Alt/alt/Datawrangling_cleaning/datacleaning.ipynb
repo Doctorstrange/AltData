{
 "cells": [
  {
   "cell_type": "markdown",
   "id": "ca93776a-d1ed-4c8f-a745-fd45821ee127",
   "metadata": {},
   "source": [
    "#Datacleaning"
   ]
  },
  {
   "cell_type": "code",
   "execution_count": 1,
   "id": "66eb981f-8095-4b4f-a9c9-a6b996c75b99",
   "metadata": {},
   "outputs": [],
   "source": [
    "import pandas as pd"
   ]
  },
  {
   "cell_type": "code",
   "execution_count": 2,
   "id": "d5053534-5900-48cb-b44d-b1908c7141e8",
   "metadata": {},
   "outputs": [],
   "source": [
    "url_link = 'https://en.wikipedia.org/wiki/List_of_largest_companies_by_revenue#:~:text=American%20retail%20corporation%20Walmart%20has,revenues%20exceeding%20US%24130%20billion.'"
   ]
  },
  {
   "cell_type": "code",
   "execution_count": 3,
   "id": "74edca36-f4b3-4102-88f5-243fca066fd8",
   "metadata": {},
   "outputs": [],
   "source": [
    "company_data = pd.read_html(url_link)"
   ]
  },
  {
   "cell_type": "code",
   "execution_count": 6,
   "id": "36c50bfe-89c7-47a2-927f-55227c446260",
   "metadata": {},
   "outputs": [
    {
     "data": {
      "text/plain": [
       "pandas.core.frame.DataFrame"
      ]
     },
     "execution_count": 6,
     "metadata": {},
     "output_type": "execute_result"
    }
   ],
   "source": [
    "type(company_data)"
   ]
  },
  {
   "cell_type": "code",
   "execution_count": 5,
   "id": "87e3ab59-4e97-4eff-936a-fb7bc24f056e",
   "metadata": {},
   "outputs": [],
   "source": [
    "company_data = company_data[0] ##dataframe"
   ]
  },
  {
   "cell_type": "code",
   "execution_count": 8,
   "id": "80d96083-362d-4bef-9f91-f42cbe4d28cf",
   "metadata": {},
   "outputs": [],
   "source": [
    "company_data_backup = company_data.copy()"
   ]
  },
  {
   "cell_type": "code",
   "execution_count": 9,
   "id": "7be0076a-1ae1-42cb-b43d-fe6406dc0a24",
   "metadata": {},
   "outputs": [
    {
     "data": {
      "text/html": [
       "<div>\n",
       "<style scoped>\n",
       "    .dataframe tbody tr th:only-of-type {\n",
       "        vertical-align: middle;\n",
       "    }\n",
       "\n",
       "    .dataframe tbody tr th {\n",
       "        vertical-align: top;\n",
       "    }\n",
       "\n",
       "    .dataframe thead tr th {\n",
       "        text-align: left;\n",
       "    }\n",
       "</style>\n",
       "<table border=\"1\" class=\"dataframe\">\n",
       "  <thead>\n",
       "    <tr>\n",
       "      <th></th>\n",
       "      <th>Rank</th>\n",
       "      <th>Name</th>\n",
       "      <th>Industry</th>\n",
       "      <th>Revenue</th>\n",
       "      <th>Profit</th>\n",
       "      <th>Employees</th>\n",
       "      <th>Headquarters[note 1]</th>\n",
       "      <th>State-owned</th>\n",
       "      <th>Ref.</th>\n",
       "    </tr>\n",
       "    <tr>\n",
       "      <th></th>\n",
       "      <th>Rank</th>\n",
       "      <th>Name</th>\n",
       "      <th>Industry</th>\n",
       "      <th>USD millions</th>\n",
       "      <th>USD millions</th>\n",
       "      <th>Employees</th>\n",
       "      <th>Headquarters[note 1]</th>\n",
       "      <th>State-owned</th>\n",
       "      <th>Ref.</th>\n",
       "    </tr>\n",
       "  </thead>\n",
       "  <tbody>\n",
       "    <tr>\n",
       "      <th>0</th>\n",
       "      <td>1</td>\n",
       "      <td>Walmart</td>\n",
       "      <td>Retail</td>\n",
       "      <td>$648,125</td>\n",
       "      <td>$15,511</td>\n",
       "      <td>2100000</td>\n",
       "      <td>United States</td>\n",
       "      <td>NaN</td>\n",
       "      <td>[1]</td>\n",
       "    </tr>\n",
       "    <tr>\n",
       "      <th>1</th>\n",
       "      <td>2</td>\n",
       "      <td>Amazon</td>\n",
       "      <td>Retail</td>\n",
       "      <td>$574,785</td>\n",
       "      <td>$30,425</td>\n",
       "      <td>1525000</td>\n",
       "      <td>United States</td>\n",
       "      <td>NaN</td>\n",
       "      <td>[4]</td>\n",
       "    </tr>\n",
       "    <tr>\n",
       "      <th>2</th>\n",
       "      <td>3</td>\n",
       "      <td>State Grid Corporation of China</td>\n",
       "      <td>Electricity</td>\n",
       "      <td>$545,948</td>\n",
       "      <td>$9,204</td>\n",
       "      <td>1361423</td>\n",
       "      <td>China</td>\n",
       "      <td>NaN</td>\n",
       "      <td>[5]</td>\n",
       "    </tr>\n",
       "    <tr>\n",
       "      <th>3</th>\n",
       "      <td>4</td>\n",
       "      <td>Saudi Aramco</td>\n",
       "      <td>Oil and gas</td>\n",
       "      <td>$494,890</td>\n",
       "      <td>$129,699</td>\n",
       "      <td>73311</td>\n",
       "      <td>Saudi Arabia</td>\n",
       "      <td>NaN</td>\n",
       "      <td>[6]</td>\n",
       "    </tr>\n",
       "    <tr>\n",
       "      <th>4</th>\n",
       "      <td>5</td>\n",
       "      <td>China Petrochemical Corporation</td>\n",
       "      <td>Oil and gas</td>\n",
       "      <td>$429,700</td>\n",
       "      <td>$9,393</td>\n",
       "      <td>513434</td>\n",
       "      <td>China</td>\n",
       "      <td>NaN</td>\n",
       "      <td>[7]</td>\n",
       "    </tr>\n",
       "  </tbody>\n",
       "</table>\n",
       "</div>"
      ],
      "text/plain": [
       "  Rank                             Name     Industry      Revenue  \\\n",
       "  Rank                             Name     Industry USD millions   \n",
       "0    1                          Walmart       Retail     $648,125   \n",
       "1    2                           Amazon       Retail     $574,785   \n",
       "2    3  State Grid Corporation of China  Electricity     $545,948   \n",
       "3    4                     Saudi Aramco  Oil and gas     $494,890   \n",
       "4    5  China Petrochemical Corporation  Oil and gas     $429,700   \n",
       "\n",
       "        Profit Employees Headquarters[note 1] State-owned Ref.  \n",
       "  USD millions Employees Headquarters[note 1] State-owned Ref.  \n",
       "0      $15,511   2100000        United States         NaN  [1]  \n",
       "1      $30,425   1525000        United States         NaN  [4]  \n",
       "2       $9,204   1361423                China         NaN  [5]  \n",
       "3     $129,699     73311         Saudi Arabia         NaN  [6]  \n",
       "4       $9,393    513434                China         NaN  [7]  "
      ]
     },
     "execution_count": 9,
     "metadata": {},
     "output_type": "execute_result"
    }
   ],
   "source": [
    "company_data_backup.head()"
   ]
  },
  {
   "cell_type": "code",
   "execution_count": null,
   "id": "f7760f8b",
   "metadata": {},
   "outputs": [],
   "source": [
    "\"\"\"\n",
    "Cell generated by Data Wrangler.\n",
    "\"\"\"\n",
    "def clean_data(company_data_backup):\n",
    "    # Drop column: 'State-owned'\n",
    "    company_data_backup = company_data_backup.drop(columns=['State-owned'])\n",
    "    return company_data_backup\n",
    "\n",
    "company_data_backup_clean = clean_data(company_data_backup.copy())\n",
    "company_data_backup_clean.head()"
   ]
  },
  {
   "cell_type": "code",
   "execution_count": 24,
   "id": "b168e5b9-5fcc-4e4f-8241-f690043ac2b7",
   "metadata": {},
   "outputs": [],
   "source": [
    "## company_data = pd.DataFrame({'x': [1],'y' : [3]}) #to create a Dataframe\n",
    "## company_data_backup = company_data_backup.drop(columns = ['x'], axis = 1) #drop a column in a dataframe"
   ]
  },
  {
   "cell_type": "code",
   "execution_count": 15,
   "id": "c6ca16f6-908a-491b-a1ed-ff8dde6d21df",
   "metadata": {},
   "outputs": [],
   "source": [
    "company_data.columns = company_data.columns.get_level_values(0) # access the values of a specific level in a MultiIndex\n",
    "# access the values of a specific level in a MultiIndex"
   ]
  },
  {
   "cell_type": "code",
   "execution_count": 86,
   "id": "bd62cbb8-a388-4f62-910a-4969fde997fe",
   "metadata": {},
   "outputs": [
    {
     "data": {
      "text/plain": [
       "dtype('O')"
      ]
     },
     "execution_count": 86,
     "metadata": {},
     "output_type": "execute_result"
    }
   ],
   "source": [
    "company_data_backup['Ranking'].dtype"
   ]
  },
  {
   "cell_type": "code",
   "execution_count": 85,
   "id": "deeaa27f",
   "metadata": {},
   "outputs": [],
   "source": [
    "company_data_backup['Ranking'] = company_data_backup['Ranking'].astype(str)"
   ]
  },
  {
   "cell_type": "code",
   "execution_count": 94,
   "id": "04cce403",
   "metadata": {},
   "outputs": [
    {
     "data": {
      "text/html": [
       "<div>\n",
       "<style scoped>\n",
       "    .dataframe tbody tr th:only-of-type {\n",
       "        vertical-align: middle;\n",
       "    }\n",
       "\n",
       "    .dataframe tbody tr th {\n",
       "        vertical-align: top;\n",
       "    }\n",
       "\n",
       "    .dataframe thead th {\n",
       "        text-align: right;\n",
       "    }\n",
       "</style>\n",
       "<table border=\"1\" class=\"dataframe\">\n",
       "  <thead>\n",
       "    <tr style=\"text-align: right;\">\n",
       "      <th></th>\n",
       "      <th>Company Name</th>\n",
       "      <th>Revenue</th>\n",
       "      <th>Profit</th>\n",
       "    </tr>\n",
       "  </thead>\n",
       "  <tbody>\n",
       "    <tr>\n",
       "      <th>0</th>\n",
       "      <td>Walmart</td>\n",
       "      <td>$648,125</td>\n",
       "      <td>$15,511</td>\n",
       "    </tr>\n",
       "    <tr>\n",
       "      <th>1</th>\n",
       "      <td>Amazon</td>\n",
       "      <td>$574,785</td>\n",
       "      <td>$30,425</td>\n",
       "    </tr>\n",
       "  </tbody>\n",
       "</table>\n",
       "</div>"
      ],
      "text/plain": [
       "  Company Name   Revenue   Profit\n",
       "0      Walmart  $648,125  $15,511\n",
       "1       Amazon  $574,785  $30,425"
      ]
     },
     "execution_count": 94,
     "metadata": {},
     "output_type": "execute_result"
    }
   ],
   "source": [
    "company_data_backup.loc[[0, 1], ['Company Name', 'Revenue', 'Profit']]"
   ]
  },
  {
   "cell_type": "code",
   "execution_count": 18,
   "id": "3dfeec7a-3c92-41b1-b90d-74552de046b7",
   "metadata": {},
   "outputs": [],
   "source": [
    "# droping the ref column from company_data\n",
    "company_data.drop(columns= ['Ref.'], axis = 1, inplace=True)"
   ]
  },
  {
   "cell_type": "code",
   "execution_count": 22,
   "id": "6c5703a3-9f7c-4155-b112-0a421ade2ddc",
   "metadata": {},
   "outputs": [],
   "source": [
    "# rename column self taught\n",
    "company_data_backup.columns = ['Ranking', 'Company Name', 'Industry', 'Revenue', 'Profit', 'Employees',\n",
    "       'Headquarters', 'State-owned', 'Revenue per worker']"
   ]
  },
  {
   "cell_type": "code",
   "execution_count": 28,
   "id": "79da991a-e060-4bf9-90f5-acd394bd2100",
   "metadata": {},
   "outputs": [],
   "source": [
    "#rename the columns\n",
    "company_data.rename(\n",
    "    columns= {\n",
    "        \"Rank\": \"Ranking\",\n",
    "        \"Name\": \"Company Name\",\n",
    "        \"Headquarters[note 1]\" : \"Headquarters\"\n",
    "    }, inplace=True)"
   ]
  },
  {
   "cell_type": "code",
   "execution_count": 35,
   "id": "5bbd44e2-ec28-4416-b7f7-90221571a4a2",
   "metadata": {},
   "outputs": [
    {
     "data": {
      "text/html": [
       "<div>\n",
       "<style scoped>\n",
       "    .dataframe tbody tr th:only-of-type {\n",
       "        vertical-align: middle;\n",
       "    }\n",
       "\n",
       "    .dataframe tbody tr th {\n",
       "        vertical-align: top;\n",
       "    }\n",
       "\n",
       "    .dataframe thead th {\n",
       "        text-align: right;\n",
       "    }\n",
       "</style>\n",
       "<table border=\"1\" class=\"dataframe\">\n",
       "  <thead>\n",
       "    <tr style=\"text-align: right;\">\n",
       "      <th></th>\n",
       "      <th>Ranking</th>\n",
       "      <th>Company Name</th>\n",
       "      <th>Industry</th>\n",
       "      <th>Revenue</th>\n",
       "      <th>Profit</th>\n",
       "      <th>Employees</th>\n",
       "      <th>Headquarters</th>\n",
       "      <th>State-owned</th>\n",
       "    </tr>\n",
       "  </thead>\n",
       "  <tbody>\n",
       "    <tr>\n",
       "      <th>0</th>\n",
       "      <td>1</td>\n",
       "      <td>Walmart</td>\n",
       "      <td>Retail</td>\n",
       "      <td>$648,125</td>\n",
       "      <td>$15,511</td>\n",
       "      <td>2100000</td>\n",
       "      <td>United States</td>\n",
       "      <td>NaN</td>\n",
       "    </tr>\n",
       "    <tr>\n",
       "      <th>1</th>\n",
       "      <td>2</td>\n",
       "      <td>Amazon</td>\n",
       "      <td>Retail</td>\n",
       "      <td>$574,785</td>\n",
       "      <td>$30,425</td>\n",
       "      <td>1525000</td>\n",
       "      <td>United States</td>\n",
       "      <td>NaN</td>\n",
       "    </tr>\n",
       "    <tr>\n",
       "      <th>2</th>\n",
       "      <td>3</td>\n",
       "      <td>State Grid Corporation of China</td>\n",
       "      <td>Electricity</td>\n",
       "      <td>$545,948</td>\n",
       "      <td>$9,204</td>\n",
       "      <td>1361423</td>\n",
       "      <td>China</td>\n",
       "      <td>NaN</td>\n",
       "    </tr>\n",
       "    <tr>\n",
       "      <th>3</th>\n",
       "      <td>4</td>\n",
       "      <td>Saudi Aramco</td>\n",
       "      <td>Oil and gas</td>\n",
       "      <td>$494,890</td>\n",
       "      <td>$129,699</td>\n",
       "      <td>73311</td>\n",
       "      <td>Saudi Arabia</td>\n",
       "      <td>NaN</td>\n",
       "    </tr>\n",
       "    <tr>\n",
       "      <th>4</th>\n",
       "      <td>5</td>\n",
       "      <td>China Petrochemical Corporation</td>\n",
       "      <td>Oil and gas</td>\n",
       "      <td>$429,700</td>\n",
       "      <td>$9,393</td>\n",
       "      <td>513434</td>\n",
       "      <td>China</td>\n",
       "      <td>NaN</td>\n",
       "    </tr>\n",
       "  </tbody>\n",
       "</table>\n",
       "</div>"
      ],
      "text/plain": [
       "   Ranking                     Company Name     Industry   Revenue    Profit  \\\n",
       "0        1                          Walmart       Retail  $648,125   $15,511   \n",
       "1        2                           Amazon       Retail  $574,785   $30,425   \n",
       "2        3  State Grid Corporation of China  Electricity  $545,948    $9,204   \n",
       "3        4                     Saudi Aramco  Oil and gas  $494,890  $129,699   \n",
       "4        5  China Petrochemical Corporation  Oil and gas  $429,700    $9,393   \n",
       "\n",
       "   Employees   Headquarters  State-owned  \n",
       "0    2100000  United States          NaN  \n",
       "1    1525000  United States          NaN  \n",
       "2    1361423          China          NaN  \n",
       "3      73311   Saudi Arabia          NaN  \n",
       "4     513434          China          NaN  "
      ]
     },
     "execution_count": 35,
     "metadata": {},
     "output_type": "execute_result"
    }
   ],
   "source": [
    "company_data.head()"
   ]
  },
  {
   "cell_type": "code",
   "execution_count": 57,
   "id": "fb346ec5",
   "metadata": {},
   "outputs": [
    {
     "data": {
      "text/plain": [
       "<bound method IndexOpsMixin.value_counts of 0                     Retail\n",
       "1                     Retail\n",
       "2                Electricity\n",
       "3                Oil and gas\n",
       "4                Oil and gas\n",
       "5                Oil and gas\n",
       "6                Commodities\n",
       "7     Information technology\n",
       "8                 Healthcare\n",
       "9                 Financials\n",
       "10                Healthcare\n",
       "11                Automotive\n",
       "12               Oil and gas\n",
       "13               Oil and gas\n",
       "14              Construction\n",
       "15                Automotive\n",
       "16                Healthcare\n",
       "17    Information technology\n",
       "18                Healthcare\n",
       "19    Information technology\n",
       "20               Commodities\n",
       "21                    Retail\n",
       "22                Financials\n",
       "23                Financials\n",
       "24               Oil and gas\n",
       "25               Commodities\n",
       "26               Oil and gas\n",
       "27                Healthcare\n",
       "28                Automotive\n",
       "29               Oil and gas\n",
       "30                Financials\n",
       "31               Electronics\n",
       "32               Electronics\n",
       "33                Healthcare\n",
       "34                Financials\n",
       "35                    Retail\n",
       "36              Construction\n",
       "37              Conglomerate\n",
       "38                Automotive\n",
       "39                Financials\n",
       "40                Financials\n",
       "41                Automotive\n",
       "42                Healthcare\n",
       "43                Automotive\n",
       "44              Conglomerate\n",
       "45                Automotive\n",
       "46              Construction\n",
       "47                     Steel\n",
       "48                Financials\n",
       "49                Healthcare\n",
       "Name: Industry, dtype: object>"
      ]
     },
     "execution_count": 57,
     "metadata": {},
     "output_type": "execute_result"
    }
   ],
   "source": [
    "company_data['Industry'].value_counts"
   ]
  },
  {
   "cell_type": "code",
   "execution_count": 74,
   "id": "8479b835",
   "metadata": {},
   "outputs": [
    {
     "name": "stdout",
     "output_type": "stream",
     "text": [
      "Industry\n",
      "Automotive                7\n",
      "Commodities               3\n",
      "Conglomerate              2\n",
      "Construction              3\n",
      "Electricity               1\n",
      "Electronics               2\n",
      "Financials                8\n",
      "Healthcare                8\n",
      "Information technology    3\n",
      "Oil and gas               8\n",
      "Retail                    4\n",
      "Steel                     1\n",
      "Name: Company Name, dtype: int64\n"
     ]
    }
   ],
   "source": [
    "industry_company_group = company_data.groupby('Industry')\n",
    "print(company_data_group)"
   ]
  },
  {
   "cell_type": "code",
   "execution_count": 76,
   "id": "fce1e5e1",
   "metadata": {},
   "outputs": [
    {
     "data": {
      "text/html": [
       "<div>\n",
       "<style scoped>\n",
       "    .dataframe tbody tr th:only-of-type {\n",
       "        vertical-align: middle;\n",
       "    }\n",
       "\n",
       "    .dataframe tbody tr th {\n",
       "        vertical-align: top;\n",
       "    }\n",
       "\n",
       "    .dataframe thead th {\n",
       "        text-align: right;\n",
       "    }\n",
       "</style>\n",
       "<table border=\"1\" class=\"dataframe\">\n",
       "  <thead>\n",
       "    <tr style=\"text-align: right;\">\n",
       "      <th></th>\n",
       "      <th>Ranking</th>\n",
       "      <th>Company Name</th>\n",
       "      <th>Industry</th>\n",
       "      <th>Revenue</th>\n",
       "      <th>Profit</th>\n",
       "      <th>Employees</th>\n",
       "      <th>Headquarters</th>\n",
       "      <th>State-owned</th>\n",
       "    </tr>\n",
       "  </thead>\n",
       "  <tbody>\n",
       "    <tr>\n",
       "      <th>3</th>\n",
       "      <td>4</td>\n",
       "      <td>Saudi Aramco</td>\n",
       "      <td>Oil and gas</td>\n",
       "      <td>$494,890</td>\n",
       "      <td>$129,699</td>\n",
       "      <td>73311</td>\n",
       "      <td>Saudi Arabia</td>\n",
       "      <td>NaN</td>\n",
       "    </tr>\n",
       "    <tr>\n",
       "      <th>4</th>\n",
       "      <td>5</td>\n",
       "      <td>China Petrochemical Corporation</td>\n",
       "      <td>Oil and gas</td>\n",
       "      <td>$429,700</td>\n",
       "      <td>$9,393</td>\n",
       "      <td>513434</td>\n",
       "      <td>China</td>\n",
       "      <td>NaN</td>\n",
       "    </tr>\n",
       "    <tr>\n",
       "      <th>5</th>\n",
       "      <td>6</td>\n",
       "      <td>China National Petroleum Corporation</td>\n",
       "      <td>Oil and gas</td>\n",
       "      <td>$421,714</td>\n",
       "      <td>$21,294</td>\n",
       "      <td>1026301</td>\n",
       "      <td>China</td>\n",
       "      <td>NaN</td>\n",
       "    </tr>\n",
       "    <tr>\n",
       "      <th>12</th>\n",
       "      <td>13</td>\n",
       "      <td>ExxonMobil</td>\n",
       "      <td>Oil and gas</td>\n",
       "      <td>$344,582</td>\n",
       "      <td>$36,010</td>\n",
       "      <td>61500</td>\n",
       "      <td>United States</td>\n",
       "      <td>NaN</td>\n",
       "    </tr>\n",
       "    <tr>\n",
       "      <th>13</th>\n",
       "      <td>14</td>\n",
       "      <td>Shell</td>\n",
       "      <td>Oil and gas</td>\n",
       "      <td>$323,183</td>\n",
       "      <td>$19,359</td>\n",
       "      <td>103000</td>\n",
       "      <td>United Kingdom</td>\n",
       "      <td>NaN</td>\n",
       "    </tr>\n",
       "    <tr>\n",
       "      <th>24</th>\n",
       "      <td>25</td>\n",
       "      <td>TotalEnergies</td>\n",
       "      <td>Oil and gas</td>\n",
       "      <td>$218,945</td>\n",
       "      <td>$21,384</td>\n",
       "      <td>102579</td>\n",
       "      <td>France</td>\n",
       "      <td>NaN</td>\n",
       "    </tr>\n",
       "    <tr>\n",
       "      <th>26</th>\n",
       "      <td>27</td>\n",
       "      <td>BP</td>\n",
       "      <td>Oil and gas</td>\n",
       "      <td>$213,032</td>\n",
       "      <td>$15,239</td>\n",
       "      <td>79400</td>\n",
       "      <td>United Kingdom</td>\n",
       "      <td>NaN</td>\n",
       "    </tr>\n",
       "    <tr>\n",
       "      <th>29</th>\n",
       "      <td>30</td>\n",
       "      <td>Chevron</td>\n",
       "      <td>Oil and gas</td>\n",
       "      <td>$200,949</td>\n",
       "      <td>$21,369</td>\n",
       "      <td>45600</td>\n",
       "      <td>United States</td>\n",
       "      <td>NaN</td>\n",
       "    </tr>\n",
       "  </tbody>\n",
       "</table>\n",
       "</div>"
      ],
      "text/plain": [
       "    Ranking                          Company Name     Industry   Revenue  \\\n",
       "3         4                          Saudi Aramco  Oil and gas  $494,890   \n",
       "4         5       China Petrochemical Corporation  Oil and gas  $429,700   \n",
       "5         6  China National Petroleum Corporation  Oil and gas  $421,714   \n",
       "12       13                            ExxonMobil  Oil and gas  $344,582   \n",
       "13       14                                 Shell  Oil and gas  $323,183   \n",
       "24       25                         TotalEnergies  Oil and gas  $218,945   \n",
       "26       27                                    BP  Oil and gas  $213,032   \n",
       "29       30                               Chevron  Oil and gas  $200,949   \n",
       "\n",
       "      Profit  Employees    Headquarters  State-owned  \n",
       "3   $129,699      73311    Saudi Arabia          NaN  \n",
       "4     $9,393     513434           China          NaN  \n",
       "5    $21,294    1026301           China          NaN  \n",
       "12   $36,010      61500   United States          NaN  \n",
       "13   $19,359     103000  United Kingdom          NaN  \n",
       "24   $21,384     102579          France          NaN  \n",
       "26   $15,239      79400  United Kingdom          NaN  \n",
       "29   $21,369      45600   United States          NaN  "
      ]
     },
     "execution_count": 76,
     "metadata": {},
     "output_type": "execute_result"
    }
   ],
   "source": [
    "industry_company_group.get_group('Oil and gas')"
   ]
  },
  {
   "cell_type": "code",
   "execution_count": 31,
   "id": "55a9d7e8-9b52-4814-bd9a-8fd62599e63b",
   "metadata": {
    "scrolled": true
   },
   "outputs": [
    {
     "name": "stdout",
     "output_type": "stream",
     "text": [
      "<class 'pandas.core.frame.DataFrame'>\n",
      "RangeIndex: 50 entries, 0 to 49\n",
      "Data columns (total 8 columns):\n",
      " #   Column        Non-Null Count  Dtype  \n",
      "---  ------        --------------  -----  \n",
      " 0   Ranking       50 non-null     int64  \n",
      " 1   Company Name  50 non-null     object \n",
      " 2   Industry      50 non-null     object \n",
      " 3   Revenue       50 non-null     object \n",
      " 4   Profit        50 non-null     object \n",
      " 5   Employees     50 non-null     int64  \n",
      " 6   Headquarters  50 non-null     object \n",
      " 7   State-owned   0 non-null      float64\n",
      "dtypes: float64(1), int64(2), object(5)\n",
      "memory usage: 3.3+ KB\n"
     ]
    }
   ],
   "source": [
    "company_data.info()"
   ]
  },
  {
   "cell_type": "code",
   "execution_count": 37,
   "id": "e61a5927-d757-41e6-9cf6-801fb2c730dc",
   "metadata": {},
   "outputs": [
    {
     "data": {
      "text/plain": [
       "Ranking                                       3\n",
       "Company Name    State Grid Corporation of China\n",
       "Industry                            Electricity\n",
       "Revenue                                $545,948\n",
       "Profit                                   $9,204\n",
       "Employees                               1361423\n",
       "Headquarters                              China\n",
       "State-owned                                 NaN\n",
       "Name: 2, dtype: object"
      ]
     },
     "execution_count": 37,
     "metadata": {},
     "output_type": "execute_result"
    }
   ],
   "source": [
    "company_data.loc[2]"
   ]
  },
  {
   "cell_type": "code",
   "execution_count": 96,
   "id": "ab06eaee-5f6c-438c-8c8c-28a17fa79834",
   "metadata": {},
   "outputs": [],
   "source": [
    "company_data_copy2.drop(columns= ['profit'], axis = 1, inplace=True)"
   ]
  },
  {
   "cell_type": "code",
   "execution_count": 40,
   "id": "8cc578ff-8b11-493d-bc5f-074ac5fb2a2f",
   "metadata": {},
   "outputs": [
    {
     "data": {
      "text/plain": [
       "Ranking                                       5\n",
       "Company Name    China Petrochemical Corporation\n",
       "Industry                            Oil and gas\n",
       "Revenue                                $429,700\n",
       "Profit                                   $9,393\n",
       "Employees                                513434\n",
       "Headquarters                              China\n",
       "State-owned                                 NaN\n",
       "Name: 4, dtype: object"
      ]
     },
     "execution_count": 40,
     "metadata": {},
     "output_type": "execute_result"
    }
   ],
   "source": [
    "company_data.loc[4]"
   ]
  },
  {
   "cell_type": "code",
   "execution_count": 48,
   "id": "28210324-41bf-41a7-b8bb-a71eb1a342cb",
   "metadata": {},
   "outputs": [
    {
     "data": {
      "text/html": [
       "<div>\n",
       "<style scoped>\n",
       "    .dataframe tbody tr th:only-of-type {\n",
       "        vertical-align: middle;\n",
       "    }\n",
       "\n",
       "    .dataframe tbody tr th {\n",
       "        vertical-align: top;\n",
       "    }\n",
       "\n",
       "    .dataframe thead th {\n",
       "        text-align: right;\n",
       "    }\n",
       "</style>\n",
       "<table border=\"1\" class=\"dataframe\">\n",
       "  <thead>\n",
       "    <tr style=\"text-align: right;\">\n",
       "      <th></th>\n",
       "      <th>Profit</th>\n",
       "      <th>Employees</th>\n",
       "    </tr>\n",
       "  </thead>\n",
       "  <tbody>\n",
       "    <tr>\n",
       "      <th>2</th>\n",
       "      <td>$9,204</td>\n",
       "      <td>1361423</td>\n",
       "    </tr>\n",
       "    <tr>\n",
       "      <th>3</th>\n",
       "      <td>$129,699</td>\n",
       "      <td>73311</td>\n",
       "    </tr>\n",
       "  </tbody>\n",
       "</table>\n",
       "</div>"
      ],
      "text/plain": [
       "     Profit  Employees\n",
       "2    $9,204    1361423\n",
       "3  $129,699      73311"
      ]
     },
     "execution_count": 48,
     "metadata": {},
     "output_type": "execute_result"
    }
   ],
   "source": [
    "company_data.loc[[2, 3], ['Profit', 'Employees']]"
   ]
  },
  {
   "cell_type": "code",
   "execution_count": 81,
   "id": "3644a21e-1fe9-4ee7-b105-875c4a27b9a8",
   "metadata": {},
   "outputs": [],
   "source": [
    "company_data_copy2['Revenue'] = company_data_copy2['Revenue'].str.replace('$', '')\n",
    "company_data_copy2['Revenue'] = company_data_copy2['Revenue'].str.replace(',', '')\n",
    "company_data_copy2['Revenue'] = company_data_copy2['Revenue'].astype(int)"
   ]
  },
  {
   "cell_type": "code",
   "execution_count": 104,
   "id": "9279c1ff-1cf7-45eb-af93-352555c39bca",
   "metadata": {},
   "outputs": [],
   "source": [
    "company_data_copy2['Profit'] = company_data_copy2['Profit'].str.replace('−', '-', regex=False)  # Non-standard minus\n",
    "company_data_copy2['Profit'] = company_data_copy2['Profit'].str.replace('–', '-', regex=False)  # En dash\n",
    "company_data_copy2['Profit'] = company_data_copy2['Profit'].str.replace('—', '-', regex=False)  # Em dash\n",
    "company_data_copy2['Profit'] = company_data_copy2['Profit'].astype(int)"
   ]
  },
  {
   "cell_type": "code",
   "execution_count": 109,
   "id": "4d8829da-8f11-4b87-bb52-c5ba6ccd05b9",
   "metadata": {},
   "outputs": [],
   "source": [
    "dats_subset = company_data_copy2.loc[[i for i in range(1, 21)], [\"Revenue\", 'Profit']]"
   ]
  },
  {
   "cell_type": "code",
   "execution_count": 110,
   "id": "34385d47-a22c-4e14-b05c-3f4dfd5e232a",
   "metadata": {},
   "outputs": [
    {
     "data": {
      "text/html": [
       "<div>\n",
       "<style scoped>\n",
       "    .dataframe tbody tr th:only-of-type {\n",
       "        vertical-align: middle;\n",
       "    }\n",
       "\n",
       "    .dataframe tbody tr th {\n",
       "        vertical-align: top;\n",
       "    }\n",
       "\n",
       "    .dataframe thead th {\n",
       "        text-align: right;\n",
       "    }\n",
       "</style>\n",
       "<table border=\"1\" class=\"dataframe\">\n",
       "  <thead>\n",
       "    <tr style=\"text-align: right;\">\n",
       "      <th></th>\n",
       "      <th>Revenue</th>\n",
       "      <th>Profit</th>\n",
       "    </tr>\n",
       "  </thead>\n",
       "  <tbody>\n",
       "    <tr>\n",
       "      <th>1</th>\n",
       "      <td>603651</td>\n",
       "      <td>159069</td>\n",
       "    </tr>\n",
       "    <tr>\n",
       "      <th>2</th>\n",
       "      <td>574785</td>\n",
       "      <td>30425</td>\n",
       "    </tr>\n",
       "    <tr>\n",
       "      <th>3</th>\n",
       "      <td>530009</td>\n",
       "      <td>8192</td>\n",
       "    </tr>\n",
       "    <tr>\n",
       "      <th>4</th>\n",
       "      <td>505000</td>\n",
       "      <td>15000</td>\n",
       "    </tr>\n",
       "    <tr>\n",
       "      <th>5</th>\n",
       "      <td>483019</td>\n",
       "      <td>21080</td>\n",
       "    </tr>\n",
       "    <tr>\n",
       "      <th>6</th>\n",
       "      <td>471154</td>\n",
       "      <td>9657</td>\n",
       "    </tr>\n",
       "    <tr>\n",
       "      <th>7</th>\n",
       "      <td>413680</td>\n",
       "      <td>55740</td>\n",
       "    </tr>\n",
       "    <tr>\n",
       "      <th>8</th>\n",
       "      <td>394328</td>\n",
       "      <td>99803</td>\n",
       "    </tr>\n",
       "    <tr>\n",
       "      <th>9</th>\n",
       "      <td>386201</td>\n",
       "      <td>20120</td>\n",
       "    </tr>\n",
       "    <tr>\n",
       "      <th>10</th>\n",
       "      <td>324162</td>\n",
       "      <td>20120</td>\n",
       "    </tr>\n",
       "    <tr>\n",
       "      <th>11</th>\n",
       "      <td>322467</td>\n",
       "      <td>4149</td>\n",
       "    </tr>\n",
       "    <tr>\n",
       "      <th>12</th>\n",
       "      <td>318476</td>\n",
       "      <td>6994</td>\n",
       "    </tr>\n",
       "    <tr>\n",
       "      <th>13</th>\n",
       "      <td>305885</td>\n",
       "      <td>4234</td>\n",
       "    </tr>\n",
       "    <tr>\n",
       "      <th>14</th>\n",
       "      <td>302089</td>\n",
       "      <td>-22819</td>\n",
       "    </tr>\n",
       "    <tr>\n",
       "      <th>15</th>\n",
       "      <td>293685</td>\n",
       "      <td>15233</td>\n",
       "    </tr>\n",
       "    <tr>\n",
       "      <th>16</th>\n",
       "      <td>288309</td>\n",
       "      <td>-19961</td>\n",
       "    </tr>\n",
       "    <tr>\n",
       "      <th>17</th>\n",
       "      <td>282836</td>\n",
       "      <td>59972</td>\n",
       "    </tr>\n",
       "    <tr>\n",
       "      <th>18</th>\n",
       "      <td>276711</td>\n",
       "      <td>3560</td>\n",
       "    </tr>\n",
       "    <tr>\n",
       "      <th>19</th>\n",
       "      <td>274491</td>\n",
       "      <td>18110</td>\n",
       "    </tr>\n",
       "    <tr>\n",
       "      <th>20</th>\n",
       "      <td>263310</td>\n",
       "      <td>20526</td>\n",
       "    </tr>\n",
       "  </tbody>\n",
       "</table>\n",
       "</div>"
      ],
      "text/plain": [
       "    Revenue  Profit\n",
       "1    603651  159069\n",
       "2    574785   30425\n",
       "3    530009    8192\n",
       "4    505000   15000\n",
       "5    483019   21080\n",
       "6    471154    9657\n",
       "7    413680   55740\n",
       "8    394328   99803\n",
       "9    386201   20120\n",
       "10   324162   20120\n",
       "11   322467    4149\n",
       "12   318476    6994\n",
       "13   305885    4234\n",
       "14   302089  -22819\n",
       "15   293685   15233\n",
       "16   288309  -19961\n",
       "17   282836   59972\n",
       "18   276711    3560\n",
       "19   274491   18110\n",
       "20   263310   20526"
      ]
     },
     "execution_count": 110,
     "metadata": {},
     "output_type": "execute_result"
    }
   ],
   "source": [
    "dats_subset"
   ]
  },
  {
   "cell_type": "markdown",
   "id": "f21ec5b0-d1d6-4575-9f38-c04a2f23e34e",
   "metadata": {},
   "source": [
    "#summary statistics"
   ]
  },
  {
   "cell_type": "code",
   "execution_count": 111,
   "id": "aaa59346-d2d8-40f4-a3d7-f31c237a8a72",
   "metadata": {},
   "outputs": [
    {
     "data": {
      "text/html": [
       "<div>\n",
       "<style scoped>\n",
       "    .dataframe tbody tr th:only-of-type {\n",
       "        vertical-align: middle;\n",
       "    }\n",
       "\n",
       "    .dataframe tbody tr th {\n",
       "        vertical-align: top;\n",
       "    }\n",
       "\n",
       "    .dataframe thead th {\n",
       "        text-align: right;\n",
       "    }\n",
       "</style>\n",
       "<table border=\"1\" class=\"dataframe\">\n",
       "  <thead>\n",
       "    <tr style=\"text-align: right;\">\n",
       "      <th></th>\n",
       "      <th>Revenue</th>\n",
       "      <th>Profit</th>\n",
       "    </tr>\n",
       "  </thead>\n",
       "  <tbody>\n",
       "    <tr>\n",
       "      <th>count</th>\n",
       "      <td>20.000000</td>\n",
       "      <td>20.000000</td>\n",
       "    </tr>\n",
       "    <tr>\n",
       "      <th>mean</th>\n",
       "      <td>380712.400000</td>\n",
       "      <td>26460.200000</td>\n",
       "    </tr>\n",
       "    <tr>\n",
       "      <th>std</th>\n",
       "      <td>109753.441536</td>\n",
       "      <td>41375.421481</td>\n",
       "    </tr>\n",
       "    <tr>\n",
       "      <th>min</th>\n",
       "      <td>263310.000000</td>\n",
       "      <td>-22819.000000</td>\n",
       "    </tr>\n",
       "    <tr>\n",
       "      <th>25%</th>\n",
       "      <td>292341.000000</td>\n",
       "      <td>6304.000000</td>\n",
       "    </tr>\n",
       "    <tr>\n",
       "      <th>50%</th>\n",
       "      <td>323314.500000</td>\n",
       "      <td>16671.500000</td>\n",
       "    </tr>\n",
       "    <tr>\n",
       "      <th>75%</th>\n",
       "      <td>474120.250000</td>\n",
       "      <td>23416.250000</td>\n",
       "    </tr>\n",
       "    <tr>\n",
       "      <th>max</th>\n",
       "      <td>603651.000000</td>\n",
       "      <td>159069.000000</td>\n",
       "    </tr>\n",
       "  </tbody>\n",
       "</table>\n",
       "</div>"
      ],
      "text/plain": [
       "             Revenue         Profit\n",
       "count      20.000000      20.000000\n",
       "mean   380712.400000   26460.200000\n",
       "std    109753.441536   41375.421481\n",
       "min    263310.000000  -22819.000000\n",
       "25%    292341.000000    6304.000000\n",
       "50%    323314.500000   16671.500000\n",
       "75%    474120.250000   23416.250000\n",
       "max    603651.000000  159069.000000"
      ]
     },
     "execution_count": 111,
     "metadata": {},
     "output_type": "execute_result"
    }
   ],
   "source": [
    "#summary statistics\n",
    "dats_subset.describe()"
   ]
  },
  {
   "cell_type": "code",
   "execution_count": 129,
   "id": "b4920fbe-43aa-4b6c-ba09-e94ffec6cf25",
   "metadata": {},
   "outputs": [
    {
     "ename": "KeyError",
     "evalue": "1",
     "output_type": "error",
     "traceback": [
      "\u001b[0;31m---------------------------------------------------------------------------\u001b[0m",
      "\u001b[0;31mKeyError\u001b[0m                                  Traceback (most recent call last)",
      "File \u001b[0;32m/opt/anaconda3/lib/python3.11/site-packages/pandas/core/indexes/base.py:3791\u001b[0m, in \u001b[0;36mIndex.get_loc\u001b[0;34m(self, key)\u001b[0m\n\u001b[1;32m   3790\u001b[0m \u001b[38;5;28;01mtry\u001b[39;00m:\n\u001b[0;32m-> 3791\u001b[0m     \u001b[38;5;28;01mreturn\u001b[39;00m \u001b[38;5;28mself\u001b[39m\u001b[38;5;241m.\u001b[39m_engine\u001b[38;5;241m.\u001b[39mget_loc(casted_key)\n\u001b[1;32m   3792\u001b[0m \u001b[38;5;28;01mexcept\u001b[39;00m \u001b[38;5;167;01mKeyError\u001b[39;00m \u001b[38;5;28;01mas\u001b[39;00m err:\n",
      "File \u001b[0;32mindex.pyx:152\u001b[0m, in \u001b[0;36mpandas._libs.index.IndexEngine.get_loc\u001b[0;34m()\u001b[0m\n",
      "File \u001b[0;32mindex.pyx:181\u001b[0m, in \u001b[0;36mpandas._libs.index.IndexEngine.get_loc\u001b[0;34m()\u001b[0m\n",
      "File \u001b[0;32mpandas/_libs/hashtable_class_helper.pxi:7080\u001b[0m, in \u001b[0;36mpandas._libs.hashtable.PyObjectHashTable.get_item\u001b[0;34m()\u001b[0m\n",
      "File \u001b[0;32mpandas/_libs/hashtable_class_helper.pxi:7088\u001b[0m, in \u001b[0;36mpandas._libs.hashtable.PyObjectHashTable.get_item\u001b[0;34m()\u001b[0m\n",
      "\u001b[0;31mKeyError\u001b[0m: 1",
      "\nThe above exception was the direct cause of the following exception:\n",
      "\u001b[0;31mKeyError\u001b[0m                                  Traceback (most recent call last)",
      "Cell \u001b[0;32mIn[129], line 2\u001b[0m\n\u001b[1;32m      1\u001b[0m \u001b[38;5;66;03m#employees column\u001b[39;00m\n\u001b[0;32m----> 2\u001b[0m comp \u001b[38;5;241m=\u001b[39m company_data_copy2[\u001b[38;5;241m1\u001b[39m]\n",
      "File \u001b[0;32m/opt/anaconda3/lib/python3.11/site-packages/pandas/core/frame.py:3893\u001b[0m, in \u001b[0;36mDataFrame.__getitem__\u001b[0;34m(self, key)\u001b[0m\n\u001b[1;32m   3891\u001b[0m \u001b[38;5;28;01mif\u001b[39;00m \u001b[38;5;28mself\u001b[39m\u001b[38;5;241m.\u001b[39mcolumns\u001b[38;5;241m.\u001b[39mnlevels \u001b[38;5;241m>\u001b[39m \u001b[38;5;241m1\u001b[39m:\n\u001b[1;32m   3892\u001b[0m     \u001b[38;5;28;01mreturn\u001b[39;00m \u001b[38;5;28mself\u001b[39m\u001b[38;5;241m.\u001b[39m_getitem_multilevel(key)\n\u001b[0;32m-> 3893\u001b[0m indexer \u001b[38;5;241m=\u001b[39m \u001b[38;5;28mself\u001b[39m\u001b[38;5;241m.\u001b[39mcolumns\u001b[38;5;241m.\u001b[39mget_loc(key)\n\u001b[1;32m   3894\u001b[0m \u001b[38;5;28;01mif\u001b[39;00m is_integer(indexer):\n\u001b[1;32m   3895\u001b[0m     indexer \u001b[38;5;241m=\u001b[39m [indexer]\n",
      "File \u001b[0;32m/opt/anaconda3/lib/python3.11/site-packages/pandas/core/indexes/base.py:3798\u001b[0m, in \u001b[0;36mIndex.get_loc\u001b[0;34m(self, key)\u001b[0m\n\u001b[1;32m   3793\u001b[0m     \u001b[38;5;28;01mif\u001b[39;00m \u001b[38;5;28misinstance\u001b[39m(casted_key, \u001b[38;5;28mslice\u001b[39m) \u001b[38;5;129;01mor\u001b[39;00m (\n\u001b[1;32m   3794\u001b[0m         \u001b[38;5;28misinstance\u001b[39m(casted_key, abc\u001b[38;5;241m.\u001b[39mIterable)\n\u001b[1;32m   3795\u001b[0m         \u001b[38;5;129;01mand\u001b[39;00m \u001b[38;5;28many\u001b[39m(\u001b[38;5;28misinstance\u001b[39m(x, \u001b[38;5;28mslice\u001b[39m) \u001b[38;5;28;01mfor\u001b[39;00m x \u001b[38;5;129;01min\u001b[39;00m casted_key)\n\u001b[1;32m   3796\u001b[0m     ):\n\u001b[1;32m   3797\u001b[0m         \u001b[38;5;28;01mraise\u001b[39;00m InvalidIndexError(key)\n\u001b[0;32m-> 3798\u001b[0m     \u001b[38;5;28;01mraise\u001b[39;00m \u001b[38;5;167;01mKeyError\u001b[39;00m(key) \u001b[38;5;28;01mfrom\u001b[39;00m \u001b[38;5;21;01merr\u001b[39;00m\n\u001b[1;32m   3799\u001b[0m \u001b[38;5;28;01mexcept\u001b[39;00m \u001b[38;5;167;01mTypeError\u001b[39;00m:\n\u001b[1;32m   3800\u001b[0m     \u001b[38;5;66;03m# If we have a listlike key, _check_indexing_error will raise\u001b[39;00m\n\u001b[1;32m   3801\u001b[0m     \u001b[38;5;66;03m#  InvalidIndexError. Otherwise we fall through and re-raise\u001b[39;00m\n\u001b[1;32m   3802\u001b[0m     \u001b[38;5;66;03m#  the TypeError.\u001b[39;00m\n\u001b[1;32m   3803\u001b[0m     \u001b[38;5;28mself\u001b[39m\u001b[38;5;241m.\u001b[39m_check_indexing_error(key)\n",
      "\u001b[0;31mKeyError\u001b[0m: 1"
     ]
    }
   ],
   "source": [
    "#employees column\n",
    "comp = company_data_copy2[1]"
   ]
  },
  {
   "cell_type": "code",
   "execution_count": 130,
   "id": "fbb21c8c-f99e-4a11-a5ef-517ba2c7d3cd",
   "metadata": {},
   "outputs": [],
   "source": [
    "emp_data = company_data_copy2[company_data_copy2['Employees'] > 1000000]"
   ]
  },
  {
   "cell_type": "code",
   "execution_count": 131,
   "id": "42676a34-b4f2-4830-9423-0010a4b9a706",
   "metadata": {},
   "outputs": [
    {
     "data": {
      "text/html": [
       "<div>\n",
       "<style scoped>\n",
       "    .dataframe tbody tr th:only-of-type {\n",
       "        vertical-align: middle;\n",
       "    }\n",
       "\n",
       "    .dataframe tbody tr th {\n",
       "        vertical-align: top;\n",
       "    }\n",
       "\n",
       "    .dataframe thead th {\n",
       "        text-align: right;\n",
       "    }\n",
       "</style>\n",
       "<table border=\"1\" class=\"dataframe\">\n",
       "  <thead>\n",
       "    <tr style=\"text-align: right;\">\n",
       "      <th></th>\n",
       "      <th>Ranking</th>\n",
       "      <th>Company Name</th>\n",
       "      <th>Industry</th>\n",
       "      <th>Revenue</th>\n",
       "      <th>Profit</th>\n",
       "      <th>Employees</th>\n",
       "      <th>Headquarters</th>\n",
       "      <th>State-owned</th>\n",
       "      <th>Revenue per worker</th>\n",
       "    </tr>\n",
       "  </thead>\n",
       "  <tbody>\n",
       "    <tr>\n",
       "      <th>0</th>\n",
       "      <td>1</td>\n",
       "      <td>Walmart</td>\n",
       "      <td>Retail</td>\n",
       "      <td>611289</td>\n",
       "      <td>11680</td>\n",
       "      <td>2100000</td>\n",
       "      <td>United States</td>\n",
       "      <td>NaN</td>\n",
       "      <td>$291,090.00</td>\n",
       "    </tr>\n",
       "    <tr>\n",
       "      <th>2</th>\n",
       "      <td>3</td>\n",
       "      <td>Amazon</td>\n",
       "      <td>Retail</td>\n",
       "      <td>574785</td>\n",
       "      <td>30425</td>\n",
       "      <td>1525000</td>\n",
       "      <td>United States</td>\n",
       "      <td>NaN</td>\n",
       "      <td>$376,908.20</td>\n",
       "    </tr>\n",
       "    <tr>\n",
       "      <th>5</th>\n",
       "      <td>6</td>\n",
       "      <td>China National Petroleum Corporation</td>\n",
       "      <td>Oil and gas</td>\n",
       "      <td>483019</td>\n",
       "      <td>21080</td>\n",
       "      <td>1087049</td>\n",
       "      <td>China</td>\n",
       "      <td>NaN</td>\n",
       "      <td>$444,339.68</td>\n",
       "    </tr>\n",
       "  </tbody>\n",
       "</table>\n",
       "</div>"
      ],
      "text/plain": [
       "   Ranking                          Company Name     Industry  Revenue  \\\n",
       "0        1                               Walmart       Retail   611289   \n",
       "2        3                                Amazon       Retail   574785   \n",
       "5        6  China National Petroleum Corporation  Oil and gas   483019   \n",
       "\n",
       "   Profit  Employees   Headquarters  State-owned Revenue per worker  \n",
       "0   11680    2100000  United States          NaN        $291,090.00  \n",
       "2   30425    1525000  United States          NaN        $376,908.20  \n",
       "5   21080    1087049          China          NaN        $444,339.68  "
      ]
     },
     "execution_count": 131,
     "metadata": {},
     "output_type": "execute_result"
    }
   ],
   "source": [
    "emp_data\n"
   ]
  },
  {
   "cell_type": "markdown",
   "id": "cabfd609-27c9-4be6-934a-4d2e7a770ec9",
   "metadata": {},
   "source": [
    "Grouping and Aggregating Data"
   ]
  },
  {
   "cell_type": "code",
   "execution_count": 133,
   "id": "3625a1e9-6e4d-4dec-bddb-52389394e07a",
   "metadata": {},
   "outputs": [
    {
     "data": {
      "text/html": [
       "<div>\n",
       "<style scoped>\n",
       "    .dataframe tbody tr th:only-of-type {\n",
       "        vertical-align: middle;\n",
       "    }\n",
       "\n",
       "    .dataframe tbody tr th {\n",
       "        vertical-align: top;\n",
       "    }\n",
       "\n",
       "    .dataframe thead th {\n",
       "        text-align: right;\n",
       "    }\n",
       "</style>\n",
       "<table border=\"1\" class=\"dataframe\">\n",
       "  <thead>\n",
       "    <tr style=\"text-align: right;\">\n",
       "      <th></th>\n",
       "      <th>Ranking</th>\n",
       "      <th>Company Name</th>\n",
       "      <th>Industry</th>\n",
       "      <th>Revenue</th>\n",
       "      <th>Profit</th>\n",
       "      <th>Employees</th>\n",
       "      <th>Headquarters</th>\n",
       "      <th>State-owned</th>\n",
       "      <th>Revenue per worker</th>\n",
       "    </tr>\n",
       "  </thead>\n",
       "  <tbody>\n",
       "    <tr>\n",
       "      <th>0</th>\n",
       "      <td>1</td>\n",
       "      <td>Walmart</td>\n",
       "      <td>Retail</td>\n",
       "      <td>611289</td>\n",
       "      <td>11680</td>\n",
       "      <td>2100000</td>\n",
       "      <td>United States</td>\n",
       "      <td>NaN</td>\n",
       "      <td>$291,090.00</td>\n",
       "    </tr>\n",
       "    <tr>\n",
       "      <th>1</th>\n",
       "      <td>2</td>\n",
       "      <td>Saudi Aramco</td>\n",
       "      <td>Oil and gas</td>\n",
       "      <td>603651</td>\n",
       "      <td>159069</td>\n",
       "      <td>70496</td>\n",
       "      <td>Saudi Arabia</td>\n",
       "      <td>NaN</td>\n",
       "      <td>$8,562,911.37</td>\n",
       "    </tr>\n",
       "    <tr>\n",
       "      <th>2</th>\n",
       "      <td>3</td>\n",
       "      <td>Amazon</td>\n",
       "      <td>Retail</td>\n",
       "      <td>574785</td>\n",
       "      <td>30425</td>\n",
       "      <td>1525000</td>\n",
       "      <td>United States</td>\n",
       "      <td>NaN</td>\n",
       "      <td>$376,908.20</td>\n",
       "    </tr>\n",
       "    <tr>\n",
       "      <th>3</th>\n",
       "      <td>4</td>\n",
       "      <td>State Grid Corporation of China</td>\n",
       "      <td>Electricity</td>\n",
       "      <td>530009</td>\n",
       "      <td>8192</td>\n",
       "      <td>870287</td>\n",
       "      <td>China</td>\n",
       "      <td>NaN</td>\n",
       "      <td>$609,004.85</td>\n",
       "    </tr>\n",
       "    <tr>\n",
       "      <th>4</th>\n",
       "      <td>5</td>\n",
       "      <td>Vitol</td>\n",
       "      <td>Commodities</td>\n",
       "      <td>505000</td>\n",
       "      <td>15000</td>\n",
       "      <td>1560</td>\n",
       "      <td>Switzerland</td>\n",
       "      <td>NaN</td>\n",
       "      <td>$323,717,948.72</td>\n",
       "    </tr>\n",
       "  </tbody>\n",
       "</table>\n",
       "</div>"
      ],
      "text/plain": [
       "   Ranking                     Company Name     Industry  Revenue  Profit  \\\n",
       "0        1                          Walmart       Retail   611289   11680   \n",
       "1        2                     Saudi Aramco  Oil and gas   603651  159069   \n",
       "2        3                           Amazon       Retail   574785   30425   \n",
       "3        4  State Grid Corporation of China  Electricity   530009    8192   \n",
       "4        5                            Vitol  Commodities   505000   15000   \n",
       "\n",
       "   Employees   Headquarters  State-owned Revenue per worker  \n",
       "0    2100000  United States          NaN        $291,090.00  \n",
       "1      70496   Saudi Arabia          NaN      $8,562,911.37  \n",
       "2    1525000  United States          NaN        $376,908.20  \n",
       "3     870287          China          NaN        $609,004.85  \n",
       "4       1560    Switzerland          NaN    $323,717,948.72  "
      ]
     },
     "execution_count": 133,
     "metadata": {},
     "output_type": "execute_result"
    }
   ],
   "source": [
    "company_data_copy2.head()\n"
   ]
  },
  {
   "cell_type": "code",
   "execution_count": 135,
   "id": "e4328ac3-f4da-4cb8-9200-1fddcf252b8c",
   "metadata": {},
   "outputs": [
    {
     "data": {
      "text/plain": [
       "Industry\n",
       "Oil and gas               13\n",
       "Healthcare                 6\n",
       "Financials                 5\n",
       "Automotive                 5\n",
       "Retail                     4\n",
       "Commodities                3\n",
       "Information technology     3\n",
       "Construction               3\n",
       "Electricity                2\n",
       "Electronics                2\n",
       "Conglomerate               2\n",
       "Chemicals                  1\n",
       "Steel                      1\n",
       "Name: count, dtype: int64"
      ]
     },
     "execution_count": 135,
     "metadata": {},
     "output_type": "execute_result"
    }
   ],
   "source": [
    "company_data_copy2['Industry'].value_counts()"
   ]
  },
  {
   "cell_type": "code",
   "execution_count": 142,
   "id": "b9a81f59-3946-4c4a-8ff0-cbdad784eaf7",
   "metadata": {},
   "outputs": [
    {
     "data": {
      "text/plain": [
       "<Axes: ylabel='Company Name'>"
      ]
     },
     "execution_count": 142,
     "metadata": {},
     "output_type": "execute_result"
    },
    {
     "data": {
      "image/png": "[encoded data removed]",
      "text/plain": [
       "<Figure size 640x480 with 1 Axes>"
      ]
     },
     "metadata": {},
     "output_type": "display_data"
    }
   ],
   "source": [
    "company_data_copy2.groupby('Industry')['Company Name'].count().plot(kind='pie')"
   ]
  },
  {
   "cell_type": "code",
   "execution_count": 36,
   "id": "5d2a88bb-a8df-4a57-b3dd-257549a7e882",
   "metadata": {},
   "outputs": [],
   "source": [
    "Industry_grp= company_data.groupby('Industry')"
   ]
  },
  {
   "cell_type": "code",
   "execution_count": 37,
   "id": "1f5833d1-b6d7-4c9d-89ca-e77a629bd3a7",
   "metadata": {},
   "outputs": [
    {
     "data": {
      "text/plain": [
       "Index([3, 4, 5, 12, 13, 24, 26, 29], dtype='int64')"
      ]
     },
     "execution_count": 37,
     "metadata": {},
     "output_type": "execute_result"
    }
   ],
   "source": [
    "Industry_grp.groups['Oil and gas'] # show index of groups"
   ]
  },
  {
   "cell_type": "code",
   "execution_count": 150,
   "id": "bf35666f-b674-48d3-8987-d31ab36eb2d3",
   "metadata": {},
   "outputs": [
    {
     "data": {
      "text/html": [
       "<div>\n",
       "<style scoped>\n",
       "    .dataframe tbody tr th:only-of-type {\n",
       "        vertical-align: middle;\n",
       "    }\n",
       "\n",
       "    .dataframe tbody tr th {\n",
       "        vertical-align: top;\n",
       "    }\n",
       "\n",
       "    .dataframe thead th {\n",
       "        text-align: right;\n",
       "    }\n",
       "</style>\n",
       "<table border=\"1\" class=\"dataframe\">\n",
       "  <thead>\n",
       "    <tr style=\"text-align: right;\">\n",
       "      <th></th>\n",
       "      <th>Ranking</th>\n",
       "      <th>Company Name</th>\n",
       "      <th>Industry</th>\n",
       "      <th>Revenue</th>\n",
       "      <th>Profit</th>\n",
       "      <th>Employees</th>\n",
       "      <th>Headquarters</th>\n",
       "      <th>State-owned</th>\n",
       "      <th>Revenue per worker</th>\n",
       "    </tr>\n",
       "  </thead>\n",
       "  <tbody>\n",
       "    <tr>\n",
       "      <th>1</th>\n",
       "      <td>2</td>\n",
       "      <td>Saudi Aramco</td>\n",
       "      <td>Oil and gas</td>\n",
       "      <td>603651</td>\n",
       "      <td>159069</td>\n",
       "      <td>70496</td>\n",
       "      <td>Saudi Arabia</td>\n",
       "      <td>NaN</td>\n",
       "      <td>$8,562,911.37</td>\n",
       "    </tr>\n",
       "    <tr>\n",
       "      <th>5</th>\n",
       "      <td>6</td>\n",
       "      <td>China National Petroleum Corporation</td>\n",
       "      <td>Oil and gas</td>\n",
       "      <td>483019</td>\n",
       "      <td>21080</td>\n",
       "      <td>1087049</td>\n",
       "      <td>China</td>\n",
       "      <td>NaN</td>\n",
       "      <td>$444,339.68</td>\n",
       "    </tr>\n",
       "    <tr>\n",
       "      <th>6</th>\n",
       "      <td>7</td>\n",
       "      <td>China Petrochemical Corporation</td>\n",
       "      <td>Oil and gas</td>\n",
       "      <td>471154</td>\n",
       "      <td>9657</td>\n",
       "      <td>527487</td>\n",
       "      <td>China</td>\n",
       "      <td>NaN</td>\n",
       "      <td>$893,204.95</td>\n",
       "    </tr>\n",
       "    <tr>\n",
       "      <th>7</th>\n",
       "      <td>8</td>\n",
       "      <td>ExxonMobil</td>\n",
       "      <td>Oil and gas</td>\n",
       "      <td>413680</td>\n",
       "      <td>55740</td>\n",
       "      <td>63000</td>\n",
       "      <td>United States</td>\n",
       "      <td>NaN</td>\n",
       "      <td>$6,566,349.21</td>\n",
       "    </tr>\n",
       "    <tr>\n",
       "      <th>9</th>\n",
       "      <td>10</td>\n",
       "      <td>Shell</td>\n",
       "      <td>Oil and gas</td>\n",
       "      <td>386201</td>\n",
       "      <td>20120</td>\n",
       "      <td>93000</td>\n",
       "      <td>United Kingdom</td>\n",
       "      <td>NaN</td>\n",
       "      <td>$4,152,698.92</td>\n",
       "    </tr>\n",
       "    <tr>\n",
       "      <th>20</th>\n",
       "      <td>21</td>\n",
       "      <td>TotalEnergies</td>\n",
       "      <td>Oil and gas</td>\n",
       "      <td>263310</td>\n",
       "      <td>20526</td>\n",
       "      <td>101279</td>\n",
       "      <td>France</td>\n",
       "      <td>NaN</td>\n",
       "      <td>$2,599,847.94</td>\n",
       "    </tr>\n",
       "    <tr>\n",
       "      <th>22</th>\n",
       "      <td>23</td>\n",
       "      <td>BP</td>\n",
       "      <td>Oil and gas</td>\n",
       "      <td>248891</td>\n",
       "      <td>-2487</td>\n",
       "      <td>67600</td>\n",
       "      <td>United Kingdom</td>\n",
       "      <td>NaN</td>\n",
       "      <td>$3,681,819.53</td>\n",
       "    </tr>\n",
       "    <tr>\n",
       "      <th>23</th>\n",
       "      <td>24</td>\n",
       "      <td>Chevron</td>\n",
       "      <td>Oil and gas</td>\n",
       "      <td>246252</td>\n",
       "      <td>35465</td>\n",
       "      <td>43846</td>\n",
       "      <td>United States</td>\n",
       "      <td>NaN</td>\n",
       "      <td>$5,616,293.39</td>\n",
       "    </tr>\n",
       "    <tr>\n",
       "      <th>36</th>\n",
       "      <td>37</td>\n",
       "      <td>Marathon Petroleum</td>\n",
       "      <td>Oil and gas</td>\n",
       "      <td>180012</td>\n",
       "      <td>14516</td>\n",
       "      <td>17800</td>\n",
       "      <td>United States</td>\n",
       "      <td>NaN</td>\n",
       "      <td>$10,113,033.71</td>\n",
       "    </tr>\n",
       "    <tr>\n",
       "      <th>37</th>\n",
       "      <td>38</td>\n",
       "      <td>Phillips 66</td>\n",
       "      <td>Oil and gas</td>\n",
       "      <td>175702</td>\n",
       "      <td>11024</td>\n",
       "      <td>13000</td>\n",
       "      <td>United States</td>\n",
       "      <td>NaN</td>\n",
       "      <td>$13,515,538.46</td>\n",
       "    </tr>\n",
       "    <tr>\n",
       "      <th>40</th>\n",
       "      <td>41</td>\n",
       "      <td>Valero Energy</td>\n",
       "      <td>Oil and gas</td>\n",
       "      <td>171189</td>\n",
       "      <td>11528</td>\n",
       "      <td>9743</td>\n",
       "      <td>United States</td>\n",
       "      <td>NaN</td>\n",
       "      <td>$17,570,460.84</td>\n",
       "    </tr>\n",
       "    <tr>\n",
       "      <th>41</th>\n",
       "      <td>42</td>\n",
       "      <td>Gazprom</td>\n",
       "      <td>Oil and gas</td>\n",
       "      <td>167832</td>\n",
       "      <td>17641</td>\n",
       "      <td>468000</td>\n",
       "      <td>Russia</td>\n",
       "      <td>NaN</td>\n",
       "      <td>$358,615.38</td>\n",
       "    </tr>\n",
       "    <tr>\n",
       "      <th>43</th>\n",
       "      <td>44</td>\n",
       "      <td>China National Offshore Oil Corporation</td>\n",
       "      <td>Oil and gas</td>\n",
       "      <td>164762</td>\n",
       "      <td>16988</td>\n",
       "      <td>81775</td>\n",
       "      <td>China</td>\n",
       "      <td>NaN</td>\n",
       "      <td>$2,014,821.16</td>\n",
       "    </tr>\n",
       "  </tbody>\n",
       "</table>\n",
       "</div>"
      ],
      "text/plain": [
       "    Ranking                             Company Name     Industry  Revenue  \\\n",
       "1         2                             Saudi Aramco  Oil and gas   603651   \n",
       "5         6     China National Petroleum Corporation  Oil and gas   483019   \n",
       "6         7          China Petrochemical Corporation  Oil and gas   471154   \n",
       "7         8                               ExxonMobil  Oil and gas   413680   \n",
       "9        10                                    Shell  Oil and gas   386201   \n",
       "20       21                            TotalEnergies  Oil and gas   263310   \n",
       "22       23                                       BP  Oil and gas   248891   \n",
       "23       24                                  Chevron  Oil and gas   246252   \n",
       "36       37                       Marathon Petroleum  Oil and gas   180012   \n",
       "37       38                              Phillips 66  Oil and gas   175702   \n",
       "40       41                            Valero Energy  Oil and gas   171189   \n",
       "41       42                                  Gazprom  Oil and gas   167832   \n",
       "43       44  China National Offshore Oil Corporation  Oil and gas   164762   \n",
       "\n",
       "    Profit  Employees    Headquarters  State-owned Revenue per worker  \n",
       "1   159069      70496    Saudi Arabia          NaN      $8,562,911.37  \n",
       "5    21080    1087049           China          NaN        $444,339.68  \n",
       "6     9657     527487           China          NaN        $893,204.95  \n",
       "7    55740      63000   United States          NaN      $6,566,349.21  \n",
       "9    20120      93000  United Kingdom          NaN      $4,152,698.92  \n",
       "20   20526     101279          France          NaN      $2,599,847.94  \n",
       "22   -2487      67600  United Kingdom          NaN      $3,681,819.53  \n",
       "23   35465      43846   United States          NaN      $5,616,293.39  \n",
       "36   14516      17800   United States          NaN     $10,113,033.71  \n",
       "37   11024      13000   United States          NaN     $13,515,538.46  \n",
       "40   11528       9743   United States          NaN     $17,570,460.84  \n",
       "41   17641     468000          Russia          NaN        $358,615.38  \n",
       "43   16988      81775           China          NaN      $2,014,821.16  "
      ]
     },
     "execution_count": 150,
     "metadata": {},
     "output_type": "execute_result"
    }
   ],
   "source": [
    "Industry_grp.get_group('Oil and gas') # get entrys that belong to stated group"
   ]
  },
  {
   "cell_type": "markdown",
   "id": "b34f0e4d-e07f-458b-8652-77e422e45ade",
   "metadata": {},
   "source": [
    "## missing values"
   ]
  },
  {
   "cell_type": "code",
   "execution_count": 153,
   "id": "9877c3e5-c984-439f-8bd3-84990a65bade",
   "metadata": {},
   "outputs": [
    {
     "data": {
      "text/plain": [
       "(50, 9)"
      ]
     },
     "execution_count": 153,
     "metadata": {},
     "output_type": "execute_result"
    }
   ],
   "source": [
    "company_data_copy.shape"
   ]
  },
  {
   "cell_type": "code",
   "execution_count": 152,
   "id": "2552a322-b678-4193-8fff-cba6d4a5aa6d",
   "metadata": {},
   "outputs": [],
   "source": [
    "#subest the data\n",
    "company_data_copy10 = company_data_copy[:10]"
   ]
  },
  {
   "cell_type": "code",
   "execution_count": 154,
   "id": "8e99a0ca-e3ef-4d37-9464-1b7096712012",
   "metadata": {},
   "outputs": [
    {
     "data": {
      "text/plain": [
       "(10, 9)"
      ]
     },
     "execution_count": 154,
     "metadata": {},
     "output_type": "execute_result"
    }
   ],
   "source": [
    "company_data_copy10.shape"
   ]
  },
  {
   "cell_type": "code",
   "execution_count": 158,
   "id": "1cbda133-20b8-420e-a862-47962df8d537",
   "metadata": {},
   "outputs": [
    {
     "data": {
      "text/html": [
       "<div>\n",
       "<style scoped>\n",
       "    .dataframe tbody tr th:only-of-type {\n",
       "        vertical-align: middle;\n",
       "    }\n",
       "\n",
       "    .dataframe tbody tr th {\n",
       "        vertical-align: top;\n",
       "    }\n",
       "\n",
       "    .dataframe thead th {\n",
       "        text-align: right;\n",
       "    }\n",
       "</style>\n",
       "<table border=\"1\" class=\"dataframe\">\n",
       "  <thead>\n",
       "    <tr style=\"text-align: right;\">\n",
       "      <th></th>\n",
       "      <th>Ranking</th>\n",
       "      <th>Company Name</th>\n",
       "      <th>Industry</th>\n",
       "      <th>Revenue</th>\n",
       "      <th>Profit</th>\n",
       "      <th>Employees</th>\n",
       "      <th>Headquarters</th>\n",
       "      <th>State-owned</th>\n",
       "      <th>Revenue per worker</th>\n",
       "    </tr>\n",
       "  </thead>\n",
       "  <tbody>\n",
       "    <tr>\n",
       "      <th>0</th>\n",
       "      <td>False</td>\n",
       "      <td>False</td>\n",
       "      <td>False</td>\n",
       "      <td>False</td>\n",
       "      <td>False</td>\n",
       "      <td>False</td>\n",
       "      <td>False</td>\n",
       "      <td>True</td>\n",
       "      <td>False</td>\n",
       "    </tr>\n",
       "    <tr>\n",
       "      <th>1</th>\n",
       "      <td>False</td>\n",
       "      <td>False</td>\n",
       "      <td>False</td>\n",
       "      <td>False</td>\n",
       "      <td>False</td>\n",
       "      <td>False</td>\n",
       "      <td>False</td>\n",
       "      <td>True</td>\n",
       "      <td>False</td>\n",
       "    </tr>\n",
       "    <tr>\n",
       "      <th>2</th>\n",
       "      <td>False</td>\n",
       "      <td>False</td>\n",
       "      <td>False</td>\n",
       "      <td>False</td>\n",
       "      <td>False</td>\n",
       "      <td>False</td>\n",
       "      <td>False</td>\n",
       "      <td>True</td>\n",
       "      <td>False</td>\n",
       "    </tr>\n",
       "    <tr>\n",
       "      <th>3</th>\n",
       "      <td>False</td>\n",
       "      <td>False</td>\n",
       "      <td>False</td>\n",
       "      <td>False</td>\n",
       "      <td>False</td>\n",
       "      <td>False</td>\n",
       "      <td>False</td>\n",
       "      <td>True</td>\n",
       "      <td>False</td>\n",
       "    </tr>\n",
       "    <tr>\n",
       "      <th>4</th>\n",
       "      <td>False</td>\n",
       "      <td>False</td>\n",
       "      <td>False</td>\n",
       "      <td>False</td>\n",
       "      <td>False</td>\n",
       "      <td>False</td>\n",
       "      <td>False</td>\n",
       "      <td>True</td>\n",
       "      <td>False</td>\n",
       "    </tr>\n",
       "    <tr>\n",
       "      <th>5</th>\n",
       "      <td>False</td>\n",
       "      <td>False</td>\n",
       "      <td>False</td>\n",
       "      <td>False</td>\n",
       "      <td>False</td>\n",
       "      <td>False</td>\n",
       "      <td>False</td>\n",
       "      <td>True</td>\n",
       "      <td>False</td>\n",
       "    </tr>\n",
       "    <tr>\n",
       "      <th>6</th>\n",
       "      <td>False</td>\n",
       "      <td>False</td>\n",
       "      <td>False</td>\n",
       "      <td>False</td>\n",
       "      <td>False</td>\n",
       "      <td>False</td>\n",
       "      <td>False</td>\n",
       "      <td>True</td>\n",
       "      <td>False</td>\n",
       "    </tr>\n",
       "    <tr>\n",
       "      <th>7</th>\n",
       "      <td>False</td>\n",
       "      <td>False</td>\n",
       "      <td>False</td>\n",
       "      <td>False</td>\n",
       "      <td>False</td>\n",
       "      <td>False</td>\n",
       "      <td>False</td>\n",
       "      <td>True</td>\n",
       "      <td>False</td>\n",
       "    </tr>\n",
       "    <tr>\n",
       "      <th>8</th>\n",
       "      <td>False</td>\n",
       "      <td>False</td>\n",
       "      <td>False</td>\n",
       "      <td>False</td>\n",
       "      <td>False</td>\n",
       "      <td>False</td>\n",
       "      <td>False</td>\n",
       "      <td>True</td>\n",
       "      <td>False</td>\n",
       "    </tr>\n",
       "    <tr>\n",
       "      <th>9</th>\n",
       "      <td>False</td>\n",
       "      <td>False</td>\n",
       "      <td>False</td>\n",
       "      <td>False</td>\n",
       "      <td>False</td>\n",
       "      <td>False</td>\n",
       "      <td>False</td>\n",
       "      <td>True</td>\n",
       "      <td>False</td>\n",
       "    </tr>\n",
       "  </tbody>\n",
       "</table>\n",
       "</div>"
      ],
      "text/plain": [
       "   Ranking  Company Name  Industry  Revenue  Profit  Employees  Headquarters  \\\n",
       "0    False         False     False    False   False      False         False   \n",
       "1    False         False     False    False   False      False         False   \n",
       "2    False         False     False    False   False      False         False   \n",
       "3    False         False     False    False   False      False         False   \n",
       "4    False         False     False    False   False      False         False   \n",
       "5    False         False     False    False   False      False         False   \n",
       "6    False         False     False    False   False      False         False   \n",
       "7    False         False     False    False   False      False         False   \n",
       "8    False         False     False    False   False      False         False   \n",
       "9    False         False     False    False   False      False         False   \n",
       "\n",
       "   State-owned  Revenue per worker  \n",
       "0         True               False  \n",
       "1         True               False  \n",
       "2         True               False  \n",
       "3         True               False  \n",
       "4         True               False  \n",
       "5         True               False  \n",
       "6         True               False  \n",
       "7         True               False  \n",
       "8         True               False  \n",
       "9         True               False  "
      ]
     },
     "execution_count": 158,
     "metadata": {},
     "output_type": "execute_result"
    }
   ],
   "source": [
    "#checking for missing data\n",
    "company_data_copy10.isnull()"
   ]
  },
  {
   "cell_type": "code",
   "execution_count": 159,
   "id": "1cdd5053-99f4-4c2c-bf2c-66ccd8e9b69a",
   "metadata": {},
   "outputs": [
    {
     "data": {
      "text/plain": [
       "Ranking                0\n",
       "Company Name           0\n",
       "Industry               0\n",
       "Revenue                0\n",
       "Profit                 0\n",
       "Employees              0\n",
       "Headquarters           0\n",
       "State-owned           10\n",
       "Revenue per worker     0\n",
       "dtype: int64"
      ]
     },
     "execution_count": 159,
     "metadata": {},
     "output_type": "execute_result"
    }
   ],
   "source": [
    "company_data_copy10.isnull().sum()"
   ]
  },
  {
   "cell_type": "markdown",
   "id": "eb213300-98af-455c-96c0-6cb07f325009",
   "metadata": {},
   "source": [
    "## Data missing at Random"
   ]
  },
  {
   "cell_type": "code",
   "execution_count": 160,
   "id": "faa8716b-c827-4e22-83ee-da67645fec3a",
   "metadata": {},
   "outputs": [
    {
     "data": {
      "text/plain": [
       "Ranking                0\n",
       "Company Name           0\n",
       "Industry               0\n",
       "Revenue                0\n",
       "Profit                 0\n",
       "Employees              0\n",
       "Headquarters           0\n",
       "State-owned           10\n",
       "Revenue per worker     0\n",
       "dtype: int64"
      ]
     },
     "execution_count": 160,
     "metadata": {},
     "output_type": "execute_result"
    }
   ],
   "source": [
    "company_data_copy10.isna().sum()"
   ]
  },
  {
   "cell_type": "code",
   "execution_count": 161,
   "id": "515a3101-2efd-420f-86df-9400da13d390",
   "metadata": {},
   "outputs": [],
   "source": [
    "company_data_copy10_1 =company_data_copy10.copy()"
   ]
  },
  {
   "cell_type": "code",
   "execution_count": 162,
   "id": "7e2db4cc-55dd-440b-92f4-50b74b4b0c81",
   "metadata": {},
   "outputs": [
    {
     "data": {
      "text/plain": [
       "Index(['Ranking', 'Company Name', 'Industry', 'Revenue', 'Profit', 'Employees',\n",
       "       'Headquarters', 'State-owned', 'Revenue per worker'],\n",
       "      dtype='object')"
      ]
     },
     "execution_count": 162,
     "metadata": {},
     "output_type": "execute_result"
    }
   ],
   "source": [
    "company_data_copy10_1.columns"
   ]
  },
  {
   "cell_type": "code",
   "execution_count": 163,
   "id": "1cb833fc-7a80-4e82-83d6-8f2d078cad14",
   "metadata": {},
   "outputs": [],
   "source": [
    "# omit the column with missing information "
   ]
  },
  {
   "cell_type": "code",
   "execution_count": 164,
   "id": "cf771ab9-73f2-4c0b-af57-c19d8172678a",
   "metadata": {},
   "outputs": [],
   "source": [
    "company_data_copy10_1 = company_data_copy10_1[['Ranking', 'Company Name', 'Industry', 'Revenue', 'Profit', 'Employees',\n",
    "       'Headquarters', 'Revenue per worker']]"
   ]
  },
  {
   "cell_type": "code",
   "execution_count": 166,
   "id": "3ac3de14-3a2f-4fa9-9538-b96e9523137d",
   "metadata": {},
   "outputs": [
    {
     "data": {
      "text/html": [
       "<div>\n",
       "<style scoped>\n",
       "    .dataframe tbody tr th:only-of-type {\n",
       "        vertical-align: middle;\n",
       "    }\n",
       "\n",
       "    .dataframe tbody tr th {\n",
       "        vertical-align: top;\n",
       "    }\n",
       "\n",
       "    .dataframe thead th {\n",
       "        text-align: right;\n",
       "    }\n",
       "</style>\n",
       "<table border=\"1\" class=\"dataframe\">\n",
       "  <thead>\n",
       "    <tr style=\"text-align: right;\">\n",
       "      <th></th>\n",
       "      <th>Ranking</th>\n",
       "      <th>Company Name</th>\n",
       "      <th>Industry</th>\n",
       "      <th>Revenue</th>\n",
       "      <th>Profit</th>\n",
       "      <th>Employees</th>\n",
       "      <th>Headquarters</th>\n",
       "      <th>Revenue per worker</th>\n",
       "    </tr>\n",
       "  </thead>\n",
       "  <tbody>\n",
       "    <tr>\n",
       "      <th>0</th>\n",
       "      <td>1</td>\n",
       "      <td>Walmart</td>\n",
       "      <td>Retail</td>\n",
       "      <td>$611,289</td>\n",
       "      <td>$11,680</td>\n",
       "      <td>2100000</td>\n",
       "      <td>United States</td>\n",
       "      <td>$291,090.00</td>\n",
       "    </tr>\n",
       "    <tr>\n",
       "      <th>1</th>\n",
       "      <td>2</td>\n",
       "      <td>Saudi Aramco</td>\n",
       "      <td>Oil and gas</td>\n",
       "      <td>$603,651</td>\n",
       "      <td>$159,069</td>\n",
       "      <td>70496</td>\n",
       "      <td>Saudi Arabia</td>\n",
       "      <td>$8,562,911.37</td>\n",
       "    </tr>\n",
       "    <tr>\n",
       "      <th>2</th>\n",
       "      <td>3</td>\n",
       "      <td>Amazon</td>\n",
       "      <td>Retail</td>\n",
       "      <td>$574,785</td>\n",
       "      <td>$30,425</td>\n",
       "      <td>1525000</td>\n",
       "      <td>United States</td>\n",
       "      <td>$376,908.20</td>\n",
       "    </tr>\n",
       "    <tr>\n",
       "      <th>3</th>\n",
       "      <td>4</td>\n",
       "      <td>State Grid Corporation of China</td>\n",
       "      <td>Electricity</td>\n",
       "      <td>$530,009</td>\n",
       "      <td>$8,192</td>\n",
       "      <td>870287</td>\n",
       "      <td>China</td>\n",
       "      <td>$609,004.85</td>\n",
       "    </tr>\n",
       "    <tr>\n",
       "      <th>4</th>\n",
       "      <td>5</td>\n",
       "      <td>Vitol</td>\n",
       "      <td>Commodities</td>\n",
       "      <td>$505,000</td>\n",
       "      <td>$15,000</td>\n",
       "      <td>1560</td>\n",
       "      <td>Switzerland</td>\n",
       "      <td>$323,717,948.72</td>\n",
       "    </tr>\n",
       "  </tbody>\n",
       "</table>\n",
       "</div>"
      ],
      "text/plain": [
       "   Ranking                     Company Name     Industry   Revenue    Profit  \\\n",
       "0        1                          Walmart       Retail  $611,289   $11,680   \n",
       "1        2                     Saudi Aramco  Oil and gas  $603,651  $159,069   \n",
       "2        3                           Amazon       Retail  $574,785   $30,425   \n",
       "3        4  State Grid Corporation of China  Electricity  $530,009    $8,192   \n",
       "4        5                            Vitol  Commodities  $505,000   $15,000   \n",
       "\n",
       "   Employees   Headquarters Revenue per worker  \n",
       "0    2100000  United States        $291,090.00  \n",
       "1      70496   Saudi Arabia      $8,562,911.37  \n",
       "2    1525000  United States        $376,908.20  \n",
       "3     870287          China        $609,004.85  \n",
       "4       1560    Switzerland    $323,717,948.72  "
      ]
     },
     "execution_count": 166,
     "metadata": {},
     "output_type": "execute_result"
    }
   ],
   "source": [
    "    company_data_copy10_1.head()"
   ]
  },
  {
   "cell_type": "code",
   "execution_count": 167,
   "id": "08e31098-3238-4e6a-aa9d-37c81cf1d6d9",
   "metadata": {},
   "outputs": [],
   "source": [
    "company_data_copy10_2 =company_data_copy10.copy()"
   ]
  },
  {
   "cell_type": "code",
   "execution_count": 168,
   "id": "c18f9fe8-a8d0-4c49-80b4-d7aa083ed851",
   "metadata": {},
   "outputs": [],
   "source": [
    "x = 2"
   ]
  },
  {
   "cell_type": "code",
   "execution_count": 169,
   "id": "a6d48ccf-2a02-470c-9b6c-5ab133f1390d",
   "metadata": {},
   "outputs": [
    {
     "data": {
      "text/plain": [
       "2"
      ]
     },
     "execution_count": 169,
     "metadata": {},
     "output_type": "execute_result"
    }
   ],
   "source": [
    "x"
   ]
  },
  {
   "cell_type": "code",
   "execution_count": 170,
   "id": "8b815ba0-5afb-4ac8-b351-6a2698db6f3c",
   "metadata": {},
   "outputs": [],
   "source": [
    "y = x "
   ]
  },
  {
   "cell_type": "code",
   "execution_count": 171,
   "id": "f63fefe7-dd90-4692-ab85-9273a30ba383",
   "metadata": {},
   "outputs": [
    {
     "data": {
      "text/plain": [
       "2"
      ]
     },
     "execution_count": 171,
     "metadata": {},
     "output_type": "execute_result"
    }
   ],
   "source": [
    "y"
   ]
  },
  {
   "cell_type": "code",
   "execution_count": 172,
   "id": "45b69989-eddb-40e1-b898-80bd5ba2416a",
   "metadata": {},
   "outputs": [
    {
     "data": {
      "text/plain": [
       "True"
      ]
     },
     "execution_count": 172,
     "metadata": {},
     "output_type": "execute_result"
    }
   ],
   "source": [
    "y is x"
   ]
  },
  {
   "cell_type": "code",
   "execution_count": 173,
   "id": "4e8b1123-c115-4891-980b-2aa4226554f5",
   "metadata": {},
   "outputs": [
    {
     "data": {
      "text/plain": [
       "True"
      ]
     },
     "execution_count": 173,
     "metadata": {},
     "output_type": "execute_result"
    }
   ],
   "source": [
    "y == x"
   ]
  },
  {
   "cell_type": "code",
   "execution_count": 174,
   "id": "40175b79-b6a5-4240-8726-b7859f19ae4c",
   "metadata": {},
   "outputs": [],
   "source": [
    "x = 3"
   ]
  },
  {
   "cell_type": "code",
   "execution_count": 175,
   "id": "c674dd46-6025-4727-a64f-4045842e8c46",
   "metadata": {},
   "outputs": [
    {
     "data": {
      "text/plain": [
       "2"
      ]
     },
     "execution_count": 175,
     "metadata": {},
     "output_type": "execute_result"
    }
   ],
   "source": [
    "y"
   ]
  },
  {
   "cell_type": "code",
   "execution_count": 205,
   "id": "b33f05de-b58d-4e65-a3cc-4aeb756db77c",
   "metadata": {},
   "outputs": [],
   "source": [
    "lst = [1, 2, 3]"
   ]
  },
  {
   "cell_type": "code",
   "execution_count": 206,
   "id": "684a4e5c-2888-4685-bb34-875e3b84fb3d",
   "metadata": {},
   "outputs": [],
   "source": [
    "lst.append([4, 5])"
   ]
  },
  {
   "cell_type": "code",
   "execution_count": 207,
   "id": "bccb0862-8938-403b-ab1e-69538c08767c",
   "metadata": {},
   "outputs": [
    {
     "name": "stdout",
     "output_type": "stream",
     "text": [
      "4\n"
     ]
    }
   ],
   "source": [
    "print(len(lst))"
   ]
  },
  {
   "cell_type": "code",
   "execution_count": 208,
   "id": "5b30370f-7af5-4ac6-aa7c-123d9a1a8237",
   "metadata": {},
   "outputs": [
    {
     "ename": "NameError",
     "evalue": "name 'z' is not defined",
     "output_type": "error",
     "traceback": [
      "\u001b[0;31m---------------------------------------------------------------------------\u001b[0m",
      "\u001b[0;31mNameError\u001b[0m                                 Traceback (most recent call last)",
      "Cell \u001b[0;32mIn[208], line 1\u001b[0m\n\u001b[0;32m----> 1\u001b[0m z\n",
      "\u001b[0;31mNameError\u001b[0m: name 'z' is not defined"
     ]
    }
   ],
   "source": [
    "z"
   ]
  },
  {
   "cell_type": "code",
   "execution_count": 210,
   "id": "53426fa4-71b6-41c5-8b2a-fe6fc53cd457",
   "metadata": {},
   "outputs": [
    {
     "ename": "SyntaxError",
     "evalue": "invalid character '‘' (U+2018) (1743855702.py, line 1)",
     "output_type": "error",
     "traceback": [
      "\u001b[0;36m  Cell \u001b[0;32mIn[210], line 1\u001b[0;36m\u001b[0m\n\u001b[0;31m    lst = [‘a’, ‘b’, ‘c’]\u001b[0m\n\u001b[0m           ^\u001b[0m\n\u001b[0;31mSyntaxError\u001b[0m\u001b[0;31m:\u001b[0m invalid character '‘' (U+2018)\n"
     ]
    }
   ],
   "source": [
    "\n",
    "lst = [‘a’, ‘b’, ‘c’]\n",
    "\n",
    "lst.remove(‘b’)\n",
    "\n",
    "lst.pop()\n",
    "\n",
    "print(lst)\n"
   ]
  },
  {
   "cell_type": "code",
   "execution_count": 211,
   "id": "4451f706-b8c5-4e51-8a5e-0c86ef18ee58",
   "metadata": {},
   "outputs": [],
   "source": [
    "my_list = [1,2,3,4]"
   ]
  },
  {
   "cell_type": "code",
   "execution_count": 212,
   "id": "7a8d362d-d273-477c-a7e0-6598bbd3da3b",
   "metadata": {},
   "outputs": [],
   "source": [
    "my_list.reverse()"
   ]
  },
  {
   "cell_type": "code",
   "execution_count": 213,
   "id": "2987e8aa-c85a-4756-9674-39133c17bda2",
   "metadata": {},
   "outputs": [
    {
     "data": {
      "text/plain": [
       "[4, 3, 2, 1]"
      ]
     },
     "execution_count": 213,
     "metadata": {},
     "output_type": "execute_result"
    }
   ],
   "source": [
    "my_list"
   ]
  },
  {
   "cell_type": "code",
   "execution_count": 214,
   "id": "a1109991-1b14-4ddd-aaa0-70b42a8cc072",
   "metadata": {},
   "outputs": [],
   "source": [
    "a = [1, 2]"
   ]
  },
  {
   "cell_type": "code",
   "execution_count": 215,
   "id": "d73f3551-3de1-42d5-8927-af9474117af5",
   "metadata": {},
   "outputs": [],
   "source": [
    "b = a"
   ]
  },
  {
   "cell_type": "code",
   "execution_count": 216,
   "id": "de170366-e2fc-4b4e-8821-1baae6399254",
   "metadata": {},
   "outputs": [],
   "source": [
    "a.append(3)"
   ]
  },
  {
   "cell_type": "code",
   "execution_count": 217,
   "id": "26ab1226-4fbd-4592-ac0d-05d4e8d7b6ab",
   "metadata": {},
   "outputs": [
    {
     "name": "stdout",
     "output_type": "stream",
     "text": [
      "[1, 2, 3]\n"
     ]
    }
   ],
   "source": [
    "print(b)"
   ]
  },
  {
   "cell_type": "code",
   "execution_count": null,
   "id": "003424ec-73b7-4c1d-b9c7-21bcee703ffe",
   "metadata": {},
   "outputs": [],
   "source": []
  }
 ],
 "metadata": {
  "kernelspec": {
   "display_name": "base",
   "language": "python",
   "name": "python3"
  },
  "language_info": {
   "codemirror_mode": {
    "name": "ipython",
    "version": 3
   },
   "file_extension": ".py",
   "mimetype": "text/x-python",
   "name": "python",
   "nbconvert_exporter": "python",
   "pygments_lexer": "ipython3",
   "version": "3.11.7"
  }
 },
 "nbformat": 4,
 "nbformat_minor": 5
}
