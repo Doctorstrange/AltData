{
 "cells": [
  {
   "cell_type": "markdown",
   "metadata": {},
   "source": [
    "# Dataset on kaggle our any data source that illustrate two versions\n",
    "### A/B Testing DataSet\n",
    "### https://www.kaggle.com/datasets/amirmotefaker/ab-testing-dataset"
   ]
  },
  {
   "cell_type": "markdown",
   "metadata": {},
   "source": [
    "# Features of the Dataset\n",
    "| **Feature**             | **Description**                                                 |\n",
    "|-------------------------|-----------------------------------------------------------------|\n",
    "| Campaign Name           | Name of the campaign (test or control)                          |\n",
    "| Date                    | Date of the record                                              |\n",
    "| Spend                   | Amount spent on the campaign (in dollars)                       |\n",
    "| # of Impressions        | Total number of times the ad was shown                          |\n",
    "| Reach                   | Number of unique users who saw the ad                           |\n",
    "| # of Website Clicks     | Number of clicks leading to the website                         |\n",
    "| # of Searches           | Number of users performing searches on the website              |\n",
    "| # of View Content       | Number of users viewing content/products on the website         |\n",
    "| # of Add to Cart        | Number of users adding products to their cart                   |\n",
    "| # of Purchase           | Number of purchases made "
   ]
  },
  {
   "cell_type": "markdown",
   "metadata": {},
   "source": [
    "# Context of the A/B testing"
   ]
  },
  {
   "cell_type": "code",
   "execution_count": null,
   "metadata": {},
   "outputs": [],
   "source": [
    "# The goal of the A/B is to determine which campaign performed better, an assess which marketing strategy was more effective\n",
    "\n",
    "## Hypothesis\n",
    "# NULL HYPOTHESIS - None of the campaigns performed differently\n",
    "# ALTERNATE HYPOTHESIS - one of the campaigns performed better"
   ]
  },
  {
   "cell_type": "code",
   "execution_count": 20,
   "metadata": {},
   "outputs": [],
   "source": [
    "import pandas as pd\n",
    "import numpy as np\n",
    "import matplotlib.pyplot as plt\n",
    "import seaborn as sns"
   ]
  },
  {
   "cell_type": "code",
   "execution_count": 5,
   "metadata": {},
   "outputs": [],
   "source": [
    "control_df = pd.read_csv(\"/Users/strangemax/Library/Mobile Documents/iCloud~AsheKube~Carnets/Documents/Alt/alt/data/A:B testing/control_group.csv\", sep=';', parse_dates=['Date']) # read control csv\n",
    "test_df = pd.read_csv(\"/Users/strangemax/Library/Mobile Documents/iCloud~AsheKube~Carnets/Documents/Alt/alt/data/A:B testing/test_group.csv\", sep=';', parse_dates=['Date']) # read test csv"
   ]
  },
  {
   "cell_type": "code",
   "execution_count": null,
   "metadata": {},
   "outputs": [
    {
     "data": {
      "text/plain": [
       "Campaign Name          0\n",
       "Date                   0\n",
       "Spend [USD]            0\n",
       "# of Impressions       1\n",
       "Reach                  1\n",
       "# of Website Clicks    1\n",
       "# of Searches          1\n",
       "# of View Content      1\n",
       "# of Add to Cart       1\n",
       "# of Purchase          1\n",
       "dtype: int64"
      ]
     },
     "execution_count": 9,
     "metadata": {},
     "output_type": "execute_result"
    }
   ],
   "source": [
    "control_df.isna().sum() #check number of missing values"
   ]
  },
  {
   "cell_type": "code",
   "execution_count": null,
   "metadata": {},
   "outputs": [
    {
     "name": "stderr",
     "output_type": "stream",
     "text": [
      "/var/folders/mj/cp5knww57qdcjpty7h3hz1w40000gn/T/ipykernel_91747/745511691.py:1: FutureWarning: DataFrame.interpolate with object dtype is deprecated and will raise in a future version. Call obj.infer_objects(copy=False) before interpolating instead.\n",
      "  control_df.interpolate(method='linear', inplace=True)\n"
     ]
    }
   ],
   "source": [
    "control_df.interpolate(method='linear', inplace=True) # fill in missing value"
   ]
  },
  {
   "cell_type": "code",
   "execution_count": null,
   "metadata": {},
   "outputs": [
    {
     "data": {
      "text/plain": [
       "Campaign Name          0\n",
       "Date                   0\n",
       "Spend [USD]            0\n",
       "# of Impressions       0\n",
       "Reach                  0\n",
       "# of Website Clicks    0\n",
       "# of Searches          0\n",
       "# of View Content      0\n",
       "# of Add to Cart       0\n",
       "# of Purchase          0\n",
       "dtype: int64"
      ]
     },
     "execution_count": 14,
     "metadata": {},
     "output_type": "execute_result"
    }
   ],
   "source": [
    "test_df.isna().sum() # check number of missing value in test df"
   ]
  },
  {
   "cell_type": "code",
   "execution_count": 30,
   "metadata": {},
   "outputs": [
    {
     "name": "stdout",
     "output_type": "stream",
     "text": [
      "  Campaign  Average Spend  Total Spend  Total Purchases\n",
      "0  Control    2288.433333        68653          15713.0\n",
      "1     Test    2563.066667        76892          15637.0\n"
     ]
    }
   ],
   "source": [
    "# give summary statistic\n",
    "summary_stats = pd.DataFrame({\n",
    "    'Campaign': ['Control', 'Test'],\n",
    "    'Average Spend': [control_df['Spend [USD]'].mean(), test_df['Spend [USD]'].mean()],\n",
    "    'Total Spend': [control_df['Spend [USD]'].sum(), test_df['Spend [USD]'].sum()],\n",
    "    'Total Purchases': [control_df['# of Purchase'].sum(), test_df['# of Purchase'].sum()]\n",
    "})\n",
    "\n",
    "print(summary_stats)"
   ]
  },
  {
   "cell_type": "code",
   "execution_count": null,
   "metadata": {},
   "outputs": [],
   "source": [
    "# conclusion\n",
    "# The Test campaign had a higher average spend and total spend than the control campaign but the control did have a higher total purchase than the test\n",
    "# This means that the control did better in converting the amount spent into purchases than the test\n"
   ]
  },
  {
   "cell_type": "code",
   "execution_count": 31,
   "metadata": {},
   "outputs": [
    {
     "name": "stdout",
     "output_type": "stream",
     "text": [
      "  Campaign  Average Spend  Total Spend  Total Purchases  Cost per Purchase\n",
      "0  Control    2288.433333        68653          15713.0           4.369185\n",
      "1     Test    2563.066667        76892          15637.0           4.917312\n"
     ]
    }
   ],
   "source": [
    "# Add cost per purchase to summary\n",
    "\n",
    "control_cost_per_purchase = control_df['Spend [USD]'].sum() / control_df['# of Purchase'].sum()\n",
    "test_cost_per_purchase = test_df['Spend [USD]'].sum() / test_df['# of Purchase'].sum()\n",
    "\n",
    "summary_stats = pd.DataFrame({\n",
    "    'Campaign': ['Control', 'Test'],\n",
    "    'Average Spend': [control_df['Spend [USD]'].mean(), test_df['Spend [USD]'].mean()],\n",
    "    'Total Spend': [control_df['Spend [USD]'].sum(), test_df['Spend [USD]'].sum()],\n",
    "    'Total Purchases': [control_df['# of Purchase'].sum(), test_df['# of Purchase'].sum()],\n",
    "    'Cost per Purchase': [control_cost_per_purchase, test_cost_per_purchase]  # Add the new column\n",
    "})\n",
    "\n",
    "print(summary_stats)"
   ]
  },
  {
   "cell_type": "code",
   "execution_count": null,
   "metadata": {},
   "outputs": [],
   "source": [
    "# The cost per purchase as a KPI indicated that that it cost the control campaign is more efficient in generating sales in terms of cost per purchase"
   ]
  }
 ],
 "metadata": {
  "kernelspec": {
   "display_name": "base",
   "language": "python",
   "name": "python3"
  },
  "language_info": {
   "codemirror_mode": {
    "name": "ipython",
    "version": 3
   },
   "file_extension": ".py",
   "mimetype": "text/x-python",
   "name": "python",
   "nbconvert_exporter": "python",
   "pygments_lexer": "ipython3",
   "version": "3.11.7"
  }
 },
 "nbformat": 4,
 "nbformat_minor": 2
}
