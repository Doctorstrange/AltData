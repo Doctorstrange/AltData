{
 "cells": [
  {
   "cell_type": "code",
   "execution_count": null,
   "metadata": {},
   "outputs": [],
   "source": [
    "# 1.⁠ ⁠Explain  inferential statistics to a non technical person \n",
    "# 2.⁠ ⁠Illustrate by writing  a python  code \n",
    "# 3.⁠ ⁠Explain one of the tools used\n",
    "# 4.⁠ ⁠Cite a use case"
   ]
  },
  {
   "cell_type": "markdown",
   "metadata": {},
   "source": [
    "⁠Explain  inferential statistics to a non technical person "
   ]
  },
  {
   "cell_type": "code",
   "execution_count": null,
   "metadata": {},
   "outputs": [],
   "source": [
    "# when doing any research you have to how many test subjects or test cases are to be used, in a a lot of situation the number of test subject can be a lot, like for example if you want to find out how man individuals in Nigeria have tuberculosis, it would be very difficult to test all 200 million nigerian, so the first step would be to find a group of people that would be adequately representative of Nigeria's population in terms of socio-economic status, sex, tribe etc\n",
    "# you might decide to pick a an estate in lagos and use them to represent nigeria, what ever result you get can now be used as a baseline for your inference on how many Nigerian as a whole have tuberculosis, this is called inferential statistics"
   ]
  },
  {
   "cell_type": "markdown",
   "metadata": {},
   "source": [
    "⁠Illustrate by writing  a python  code "
   ]
  },
  {
   "cell_type": "code",
   "execution_count": 2,
   "metadata": {},
   "outputs": [
    {
     "name": "stdout",
     "output_type": "stream",
     "text": [
      "Estimated TB Prevalence Rate in Sample size: 0.0310\n",
      "Margin of Error: ±0.0107\n",
      "Confidence Interval for Simulated TB Prevalence: (0.0203, 0.0417)\n"
     ]
    }
   ],
   "source": [
    "import numpy as np\n",
    "import scipy.stats as stats\n",
    "\n",
    "\n",
    "# simulate a population\n",
    "nigeria_population_size = 200000000 #estimated population of Nigeria\n",
    "simulated_tb_prevalence = np.random.uniform(0.01, 0.05) #simulated prevalence between 1 - 5%\n",
    "\n",
    "# generate a population of 200000000 people with 1-5% of which being randomly selected as having tb\n",
    "tb_population = np.random.choice([1, 0], size=nigeria_population_size, p=[simulated_tb_prevalence, 1 - simulated_tb_prevalence])\n",
    "\n",
    "#Take a random sample of 1000 people from simulated population\n",
    "sample_size = 1000  # A Sample size of 1000 people\n",
    "sample = np.random.choice(tb_population, sample_size, replace=False)\n",
    "\n",
    "# Calculate the number of people in the sample sze with tb\n",
    "sample_with_tb = np.mean(sample)  # number of tb cases in the sample\n",
    "\n",
    "# calaculate standard error for the sample that has tb\n",
    "standard_error = np.sqrt((sample_with_tb * (1 - sample_with_tb)) / sample_size)\n",
    "\n",
    "# calculate margin of error at 95% confidence level\n",
    "confidence_level = 0.95\n",
    "z_score = stats.norm.ppf(1 - (1 - confidence_level) / 2)  # Z-score of mean at 95% confidence\n",
    "margin_of_error = z_score * standard_error\n",
    "\n",
    "# estimate the most likely true value of the sample that has tb in real life\n",
    "confidence_interval = (sample_with_tb - margin_of_error, sample_with_tb + margin_of_error)\n",
    "\n",
    "# Output the results\n",
    "print(f\"Estimated TB Prevalence Rate in Sample size: {sample_with_tb:.4f}\")\n",
    "print(f\"Margin of Error: ±{margin_of_error:.4f}\")\n",
    "print(f\"Confidence Interval for Simulated TB Prevalence: ({confidence_interval[0]:.4f}, {confidence_interval[1]:.4f})\")"
   ]
  },
  {
   "cell_type": "markdown",
   "metadata": {},
   "source": [
    "⁠Explain one of the tools used"
   ]
  },
  {
   "cell_type": "code",
   "execution_count": null,
   "metadata": {},
   "outputs": [],
   "source": [
    "# Confidence interval\n",
    "\n",
    "# This is a statistical range derived from a sample data taken from a population that shows the range of values that would most likely be the correct value for result derived from a sample data taken from a larger population\n",
    "\n",
    "#with the confidence interval you can quantify the amount of uncertainty in the result you generate from a sample data, taken from a larger set\n",
    "\n",
    "# as seen in the code taken a sample of 1000 people from 200000000, then estimated what amount of them as tb, the confidence interval tells us what we should expect to be the true prevalence of tb from the 200000000 people, this result can be contrasted with the prevalence generated from our from the sample, to see how close we are to being correct about our estimate of the prevalence of tb\n"
   ]
  },
  {
   "cell_type": "markdown",
   "metadata": {},
   "source": [
    "⁠Cite a use case"
   ]
  },
  {
   "cell_type": "code",
   "execution_count": null,
   "metadata": {},
   "outputs": [],
   "source": [
    "# A use case for confidence date can be seen in the above situation after deriving our point estimate which is the value calculated from the sample data, in this case the mean, which can compare our findings to the confidence interval to see how close to the truth our point estimate is\n",
    "\n",
    "# judging from the simulation the confidence interval is which is given as a tuple (0.0203, 0.0417), shows that yes the point estimate 0.0310 does fall with the upper and lower bounds of the interval, giving us some degree of confidence that our estimate is correct\n"
   ]
  },
  {
   "cell_type": "code",
   "execution_count": null,
   "metadata": {},
   "outputs": [],
   "source": []
  }
 ],
 "metadata": {
  "kernelspec": {
   "display_name": "base",
   "language": "python",
   "name": "python3"
  },
  "language_info": {
   "codemirror_mode": {
    "name": "ipython",
    "version": 3
   },
   "file_extension": ".py",
   "mimetype": "text/x-python",
   "name": "python",
   "nbconvert_exporter": "python",
   "pygments_lexer": "ipython3",
   "version": "3.11.7"
  }
 },
 "nbformat": 4,
 "nbformat_minor": 2
}
