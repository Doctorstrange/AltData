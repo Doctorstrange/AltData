{
 "cells": [
  {
   "cell_type": "markdown",
   "metadata": {},
   "source": [
    "# Hypothesis Testing Simulation\n",
    "### Objective: Simulate A/B testing to understand the effects of different variables on user engagement."
   ]
  },
  {
   "cell_type": "code",
   "execution_count": 326,
   "metadata": {},
   "outputs": [],
   "source": [
    "# import needed packages\n",
    "import numpy as np\n",
    "import pandas as pd\n",
    "import random\n",
    "from scipy import stats\n",
    "from scipy.stats import t\n",
    "import statsmodels.api as sm\n",
    "import seaborn as sns\n",
    "import matplotlib.pyplot as plt"
   ]
  },
  {
   "cell_type": "code",
   "execution_count": 262,
   "metadata": {},
   "outputs": [],
   "source": [
    "\n",
    "\n",
    "\n",
    "# Define neccessary parameters\n",
    "number_of_users_in_group = 1000 # This would be the number of users in each group or column\n"
   ]
  },
  {
   "cell_type": "markdown",
   "metadata": {},
   "source": [
    "# 1. Generate random dataset"
   ]
  },
  {
   "cell_type": "code",
   "execution_count": 263,
   "metadata": {},
   "outputs": [],
   "source": [
    "def generate_table(seed, num_rows=1000):\n",
    "    \"\"\"Generates Pandas DataFrame with click, time_spent, and conversion columns.\n",
    "\n",
    "    Args:\n",
    "        num_rows: The number of rows in the DataFrame.\n",
    "\n",
    "    Returns:\n",
    "        Pandas DataFrame.\n",
    "    \"\"\"\n",
    "\n",
    "    # To generate random boolean values for 'click' and 'conversion'\n",
    "    # since the code is to be shared i will set a seed to have a consistent starting point so the code would generate the same set of values when run again\n",
    "    np.random.seed(seed)\n",
    "    \n",
    "    # Generate two random values (for True and False)\n",
    "    random_probs = np.random.rand(2)\n",
    "\n",
    "    # Normalize to make the sum of probabilities equal to 1\n",
    "    random_probs /= random_probs.sum()\n",
    "    \n",
    "    click = np.random.choice([True, False], size=num_rows, p=random_probs)\n",
    "    conversion = np.random.choice([True, False], size=num_rows, p=random_probs)\n",
    "\n",
    "    # Generate random time spent values in minutes (between 0 and 420 for example)\n",
    "    # https://www.researchgate.net/figure/Time-spent-for-online-shopping-N168_tbl2_330237934\n",
    "    time_spent = np.random.randint(5, 420, size=num_rows)  # Generates integers between 0 and 60 inclusive.\n",
    "\n",
    "    # Create a DataFrame with generated values\n",
    "    df = pd.DataFrame({\n",
    "        'click': click,\n",
    "        'time_spent (min)': time_spent,\n",
    "        'conversion': conversion\n",
    "    })\n",
    "\n",
    "    return df"
   ]
  },
  {
   "cell_type": "code",
   "execution_count": 264,
   "metadata": {},
   "outputs": [],
   "source": [
    "# Generating random control and treatment datasets\n",
    "df_control = generate_table(45)\n",
    "df_treatment = generate_table(1)"
   ]
  },
  {
   "cell_type": "code",
   "execution_count": 265,
   "metadata": {},
   "outputs": [
    {
     "data": {
      "text/html": [
       "<div>\n",
       "<style scoped>\n",
       "    .dataframe tbody tr th:only-of-type {\n",
       "        vertical-align: middle;\n",
       "    }\n",
       "\n",
       "    .dataframe tbody tr th {\n",
       "        vertical-align: top;\n",
       "    }\n",
       "\n",
       "    .dataframe thead th {\n",
       "        text-align: right;\n",
       "    }\n",
       "</style>\n",
       "<table border=\"1\" class=\"dataframe\">\n",
       "  <thead>\n",
       "    <tr style=\"text-align: right;\">\n",
       "      <th></th>\n",
       "      <th>click</th>\n",
       "      <th>time_spent (min)</th>\n",
       "      <th>conversion</th>\n",
       "    </tr>\n",
       "  </thead>\n",
       "  <tbody>\n",
       "    <tr>\n",
       "      <th>0</th>\n",
       "      <td>True</td>\n",
       "      <td>95</td>\n",
       "      <td>True</td>\n",
       "    </tr>\n",
       "    <tr>\n",
       "      <th>1</th>\n",
       "      <td>True</td>\n",
       "      <td>373</td>\n",
       "      <td>True</td>\n",
       "    </tr>\n",
       "    <tr>\n",
       "      <th>2</th>\n",
       "      <td>True</td>\n",
       "      <td>294</td>\n",
       "      <td>True</td>\n",
       "    </tr>\n",
       "    <tr>\n",
       "      <th>3</th>\n",
       "      <td>True</td>\n",
       "      <td>47</td>\n",
       "      <td>True</td>\n",
       "    </tr>\n",
       "    <tr>\n",
       "      <th>4</th>\n",
       "      <td>True</td>\n",
       "      <td>206</td>\n",
       "      <td>True</td>\n",
       "    </tr>\n",
       "  </tbody>\n",
       "</table>\n",
       "</div>"
      ],
      "text/plain": [
       "   click  time_spent (min)  conversion\n",
       "0   True                95        True\n",
       "1   True               373        True\n",
       "2   True               294        True\n",
       "3   True                47        True\n",
       "4   True               206        True"
      ]
     },
     "execution_count": 265,
     "metadata": {},
     "output_type": "execute_result"
    }
   ],
   "source": [
    "df_control.head()"
   ]
  },
  {
   "cell_type": "code",
   "execution_count": 266,
   "metadata": {},
   "outputs": [
    {
     "data": {
      "text/html": [
       "<div>\n",
       "<style scoped>\n",
       "    .dataframe tbody tr th:only-of-type {\n",
       "        vertical-align: middle;\n",
       "    }\n",
       "\n",
       "    .dataframe tbody tr th {\n",
       "        vertical-align: top;\n",
       "    }\n",
       "\n",
       "    .dataframe thead th {\n",
       "        text-align: right;\n",
       "    }\n",
       "</style>\n",
       "<table border=\"1\" class=\"dataframe\">\n",
       "  <thead>\n",
       "    <tr style=\"text-align: right;\">\n",
       "      <th></th>\n",
       "      <th>click</th>\n",
       "      <th>time_spent (min)</th>\n",
       "      <th>conversion</th>\n",
       "    </tr>\n",
       "  </thead>\n",
       "  <tbody>\n",
       "    <tr>\n",
       "      <th>0</th>\n",
       "      <td>True</td>\n",
       "      <td>297</td>\n",
       "      <td>False</td>\n",
       "    </tr>\n",
       "    <tr>\n",
       "      <th>1</th>\n",
       "      <td>True</td>\n",
       "      <td>309</td>\n",
       "      <td>False</td>\n",
       "    </tr>\n",
       "    <tr>\n",
       "      <th>2</th>\n",
       "      <td>True</td>\n",
       "      <td>392</td>\n",
       "      <td>False</td>\n",
       "    </tr>\n",
       "    <tr>\n",
       "      <th>3</th>\n",
       "      <td>True</td>\n",
       "      <td>122</td>\n",
       "      <td>True</td>\n",
       "    </tr>\n",
       "    <tr>\n",
       "      <th>4</th>\n",
       "      <td>True</td>\n",
       "      <td>248</td>\n",
       "      <td>True</td>\n",
       "    </tr>\n",
       "  </tbody>\n",
       "</table>\n",
       "</div>"
      ],
      "text/plain": [
       "   click  time_spent (min)  conversion\n",
       "0   True               297       False\n",
       "1   True               309       False\n",
       "2   True               392       False\n",
       "3   True               122        True\n",
       "4   True               248        True"
      ]
     },
     "execution_count": 266,
     "metadata": {},
     "output_type": "execute_result"
    }
   ],
   "source": [
    "df_treatment.head()"
   ]
  },
  {
   "cell_type": "markdown",
   "metadata": {},
   "source": [
    "# 2. Datacleaning - Align conversion with click"
   ]
  },
  {
   "cell_type": "code",
   "execution_count": 267,
   "metadata": {},
   "outputs": [],
   "source": [
    "# backup generated data\n",
    "df_control_backup = df_control.copy() # backup control dataset\n",
    "df_treatment_backup = df_treatment.copy() # backup treatment dataset"
   ]
  },
  {
   "cell_type": "code",
   "execution_count": 268,
   "metadata": {},
   "outputs": [],
   "source": [
    "df_control_copy = df_control.copy()"
   ]
  },
  {
   "cell_type": "code",
   "execution_count": 269,
   "metadata": {},
   "outputs": [],
   "source": [
    "# in order to prevent a situation where click is false and conversion is true as a user would need to click before conversion can occur\n",
    "# clean dataset\n",
    "def align_click_with_conversion(df):\n",
    "    df['conversion'] = np.where(df['click'] == False, False, df['conversion'])\n",
    "    return df\n",
    "        "
   ]
  },
  {
   "cell_type": "code",
   "execution_count": 270,
   "metadata": {},
   "outputs": [],
   "source": [
    "df_control = align_click_with_conversion(df_control) # remove contradiction in control dataset\n",
    "df_treatment = align_click_with_conversion(df_treatment) # remove contradiction in treatment dataset"
   ]
  },
  {
   "cell_type": "code",
   "execution_count": 271,
   "metadata": {},
   "outputs": [
    {
     "data": {
      "text/html": [
       "<div>\n",
       "<style scoped>\n",
       "    .dataframe tbody tr th:only-of-type {\n",
       "        vertical-align: middle;\n",
       "    }\n",
       "\n",
       "    .dataframe tbody tr th {\n",
       "        vertical-align: top;\n",
       "    }\n",
       "\n",
       "    .dataframe thead th {\n",
       "        text-align: right;\n",
       "    }\n",
       "</style>\n",
       "<table border=\"1\" class=\"dataframe\">\n",
       "  <thead>\n",
       "    <tr style=\"text-align: right;\">\n",
       "      <th></th>\n",
       "      <th>click</th>\n",
       "      <th>time_spent (min)</th>\n",
       "      <th>conversion</th>\n",
       "    </tr>\n",
       "  </thead>\n",
       "  <tbody>\n",
       "    <tr>\n",
       "      <th>0</th>\n",
       "      <td>True</td>\n",
       "      <td>95</td>\n",
       "      <td>True</td>\n",
       "    </tr>\n",
       "    <tr>\n",
       "      <th>1</th>\n",
       "      <td>True</td>\n",
       "      <td>373</td>\n",
       "      <td>True</td>\n",
       "    </tr>\n",
       "    <tr>\n",
       "      <th>2</th>\n",
       "      <td>True</td>\n",
       "      <td>294</td>\n",
       "      <td>True</td>\n",
       "    </tr>\n",
       "    <tr>\n",
       "      <th>3</th>\n",
       "      <td>True</td>\n",
       "      <td>47</td>\n",
       "      <td>True</td>\n",
       "    </tr>\n",
       "    <tr>\n",
       "      <th>4</th>\n",
       "      <td>True</td>\n",
       "      <td>206</td>\n",
       "      <td>True</td>\n",
       "    </tr>\n",
       "  </tbody>\n",
       "</table>\n",
       "</div>"
      ],
      "text/plain": [
       "   click  time_spent (min)  conversion\n",
       "0   True                95        True\n",
       "1   True               373        True\n",
       "2   True               294        True\n",
       "3   True                47        True\n",
       "4   True               206        True"
      ]
     },
     "execution_count": 271,
     "metadata": {},
     "output_type": "execute_result"
    }
   ],
   "source": [
    "df_control.head()"
   ]
  },
  {
   "cell_type": "code",
   "execution_count": 272,
   "metadata": {},
   "outputs": [
    {
     "data": {
      "text/plain": [
       "0.651"
      ]
     },
     "execution_count": 272,
     "metadata": {},
     "output_type": "execute_result"
    }
   ],
   "source": [
    "df_control['click'].mean()"
   ]
  },
  {
   "cell_type": "code",
   "execution_count": 273,
   "metadata": {},
   "outputs": [
    {
     "data": {
      "text/plain": [
       "click\n",
       "True     651\n",
       "False    349\n",
       "Name: count, dtype: int64"
      ]
     },
     "execution_count": 273,
     "metadata": {},
     "output_type": "execute_result"
    }
   ],
   "source": [
    "df_control['click'].value_counts()"
   ]
  },
  {
   "cell_type": "code",
   "execution_count": 274,
   "metadata": {},
   "outputs": [],
   "source": [
    "# add id column to dataframe\n",
    "df_control['id'] = 'control'\n",
    "df_treatment['id'] = 'treatment'"
   ]
  },
  {
   "cell_type": "code",
   "execution_count": 275,
   "metadata": {},
   "outputs": [],
   "source": [
    "# concat two control and treatment dataframe to create one Coker_AB dataframe\n",
    "coker_AB = pd.concat([df_control, df_treatment])"
   ]
  },
  {
   "cell_type": "code",
   "execution_count": 276,
   "metadata": {},
   "outputs": [
    {
     "data": {
      "text/plain": [
       "(2000, 4)"
      ]
     },
     "execution_count": 276,
     "metadata": {},
     "output_type": "execute_result"
    }
   ],
   "source": [
    "# check shape of created dataframe\n",
    "coker_AB.shape"
   ]
  },
  {
   "cell_type": "code",
   "execution_count": 277,
   "metadata": {},
   "outputs": [
    {
     "data": {
      "text/html": [
       "<div>\n",
       "<style scoped>\n",
       "    .dataframe tbody tr th:only-of-type {\n",
       "        vertical-align: middle;\n",
       "    }\n",
       "\n",
       "    .dataframe tbody tr th {\n",
       "        vertical-align: top;\n",
       "    }\n",
       "\n",
       "    .dataframe thead th {\n",
       "        text-align: right;\n",
       "    }\n",
       "</style>\n",
       "<table border=\"1\" class=\"dataframe\">\n",
       "  <thead>\n",
       "    <tr style=\"text-align: right;\">\n",
       "      <th></th>\n",
       "      <th>click</th>\n",
       "      <th>time_spent (min)</th>\n",
       "      <th>conversion</th>\n",
       "      <th>id</th>\n",
       "    </tr>\n",
       "  </thead>\n",
       "  <tbody>\n",
       "    <tr>\n",
       "      <th>0</th>\n",
       "      <td>True</td>\n",
       "      <td>95</td>\n",
       "      <td>True</td>\n",
       "      <td>control</td>\n",
       "    </tr>\n",
       "    <tr>\n",
       "      <th>1</th>\n",
       "      <td>True</td>\n",
       "      <td>373</td>\n",
       "      <td>True</td>\n",
       "      <td>control</td>\n",
       "    </tr>\n",
       "    <tr>\n",
       "      <th>2</th>\n",
       "      <td>True</td>\n",
       "      <td>294</td>\n",
       "      <td>True</td>\n",
       "      <td>control</td>\n",
       "    </tr>\n",
       "    <tr>\n",
       "      <th>3</th>\n",
       "      <td>True</td>\n",
       "      <td>47</td>\n",
       "      <td>True</td>\n",
       "      <td>control</td>\n",
       "    </tr>\n",
       "    <tr>\n",
       "      <th>4</th>\n",
       "      <td>True</td>\n",
       "      <td>206</td>\n",
       "      <td>True</td>\n",
       "      <td>control</td>\n",
       "    </tr>\n",
       "  </tbody>\n",
       "</table>\n",
       "</div>"
      ],
      "text/plain": [
       "   click  time_spent (min)  conversion       id\n",
       "0   True                95        True  control\n",
       "1   True               373        True  control\n",
       "2   True               294        True  control\n",
       "3   True                47        True  control\n",
       "4   True               206        True  control"
      ]
     },
     "execution_count": 277,
     "metadata": {},
     "output_type": "execute_result"
    }
   ],
   "source": [
    "coker_AB.head()"
   ]
  },
  {
   "cell_type": "markdown",
   "metadata": {},
   "source": [
    "### save generated dataframe to csv"
   ]
  },
  {
   "cell_type": "code",
   "execution_count": 278,
   "metadata": {},
   "outputs": [],
   "source": [
    "coker_AB.to_csv('/Users/strangemax/Library/Mobile Documents/iCloud~AsheKube~Carnets/Documents/Alt/alt/pablo data/coker_AB.csv', index=False)"
   ]
  },
  {
   "cell_type": "markdown",
   "metadata": {},
   "source": []
  },
  {
   "cell_type": "code",
   "execution_count": 279,
   "metadata": {},
   "outputs": [],
   "source": [
    "# read data from csv\n",
    "ab_test = pd.read_csv('/Users/strangemax/Library/Mobile Documents/iCloud~AsheKube~Carnets/Documents/Alt/alt/pablo data/coker_AB.csv')"
   ]
  },
  {
   "cell_type": "markdown",
   "metadata": {},
   "source": [
    "## exploratory data analysis"
   ]
  },
  {
   "cell_type": "code",
   "execution_count": 327,
   "metadata": {},
   "outputs": [
    {
     "data": {
      "image/png": "[encoded data removed]",
      "text/plain": [
       "<Figure size 640x480 with 1 Axes>"
      ]
     },
     "metadata": {},
     "output_type": "display_data"
    }
   ],
   "source": [
    "ab_test.groupby('id')['time_spent (min)'].hist(alpha=0.5, legend=True)\n",
    "\n",
    "# Set the legend\n",
    "plt.legend(title='Group', labels=['Control', 'Treatment'])\n",
    "\n",
    "# Set the title and labels\n",
    "plt.title('Distribution of Time Spent (min) by Group')\n",
    "plt.xlabel('Time Spent (min)')\n",
    "plt.ylabel('Frequency')\n",
    "\n",
    "# Show the plot\n",
    "plt.show()"
   ]
  },
  {
   "cell_type": "code",
   "execution_count": 319,
   "metadata": {},
   "outputs": [
    {
     "data": {
      "text/plain": [
       "<Axes: xlabel='id', ylabel='conversion'>"
      ]
     },
     "execution_count": 319,
     "metadata": {},
     "output_type": "execute_result"
    },
    {
     "data": {
      "image/png": "[encoded data removed]",
      "text/plain": [
       "<Figure size 640x480 with 1 Axes>"
      ]
     },
     "metadata": {},
     "output_type": "display_data"
    }
   ],
   "source": [
    "sns.barplot(x='id', y='click', data=ab_test)\n",
    "sns.barplot(x='id', y='conversion', data=ab_test)"
   ]
  },
  {
   "cell_type": "code",
   "execution_count": 321,
   "metadata": {},
   "outputs": [
    {
     "data": {
      "text/plain": [
       "<Axes: xlabel='id', ylabel='time_spent (min)'>"
      ]
     },
     "execution_count": 321,
     "metadata": {},
     "output_type": "execute_result"
    },
    {
     "data": {
      "image/png": "[encoded data removed]",
      "text/plain": [
       "<Figure size 640x480 with 1 Axes>"
      ]
     },
     "metadata": {},
     "output_type": "display_data"
    }
   ],
   "source": [
    "sns.boxplot(x='id', y='time_spent (min)', data=ab_test)"
   ]
  },
  {
   "cell_type": "code",
   "execution_count": 324,
   "metadata": {},
   "outputs": [
    {
     "data": {
      "text/html": [
       "<div>\n",
       "<style scoped>\n",
       "    .dataframe tbody tr th:only-of-type {\n",
       "        vertical-align: middle;\n",
       "    }\n",
       "\n",
       "    .dataframe tbody tr th {\n",
       "        vertical-align: top;\n",
       "    }\n",
       "\n",
       "    .dataframe thead th {\n",
       "        text-align: right;\n",
       "    }\n",
       "</style>\n",
       "<table border=\"1\" class=\"dataframe\">\n",
       "  <thead>\n",
       "    <tr style=\"text-align: right;\">\n",
       "      <th></th>\n",
       "      <th>time_spent (min)</th>\n",
       "      <th>click</th>\n",
       "      <th>conversion</th>\n",
       "    </tr>\n",
       "  </thead>\n",
       "  <tbody>\n",
       "    <tr>\n",
       "      <th>time_spent (min)</th>\n",
       "      <td>1.000000</td>\n",
       "      <td>0.049953</td>\n",
       "      <td>-0.001210</td>\n",
       "    </tr>\n",
       "    <tr>\n",
       "      <th>click</th>\n",
       "      <td>0.049953</td>\n",
       "      <td>1.000000</td>\n",
       "      <td>0.601671</td>\n",
       "    </tr>\n",
       "    <tr>\n",
       "      <th>conversion</th>\n",
       "      <td>-0.001210</td>\n",
       "      <td>0.601671</td>\n",
       "      <td>1.000000</td>\n",
       "    </tr>\n",
       "  </tbody>\n",
       "</table>\n",
       "</div>"
      ],
      "text/plain": [
       "                  time_spent (min)     click  conversion\n",
       "time_spent (min)          1.000000  0.049953   -0.001210\n",
       "click                     0.049953  1.000000    0.601671\n",
       "conversion               -0.001210  0.601671    1.000000"
      ]
     },
     "execution_count": 324,
     "metadata": {},
     "output_type": "execute_result"
    }
   ],
   "source": [
    "ab_test[['time_spent (min)', 'click', 'conversion']].corr()"
   ]
  },
  {
   "cell_type": "markdown",
   "metadata": {},
   "source": [
    "# Hypothesis testing"
   ]
  },
  {
   "cell_type": "code",
   "execution_count": 280,
   "metadata": {},
   "outputs": [
    {
     "data": {
      "text/html": [
       "<div>\n",
       "<style scoped>\n",
       "    .dataframe tbody tr th:only-of-type {\n",
       "        vertical-align: middle;\n",
       "    }\n",
       "\n",
       "    .dataframe tbody tr th {\n",
       "        vertical-align: top;\n",
       "    }\n",
       "\n",
       "    .dataframe thead th {\n",
       "        text-align: right;\n",
       "    }\n",
       "</style>\n",
       "<table border=\"1\" class=\"dataframe\">\n",
       "  <thead>\n",
       "    <tr style=\"text-align: right;\">\n",
       "      <th></th>\n",
       "      <th>click</th>\n",
       "      <th>time_spent (min)</th>\n",
       "      <th>conversion</th>\n",
       "      <th>id</th>\n",
       "    </tr>\n",
       "  </thead>\n",
       "  <tbody>\n",
       "    <tr>\n",
       "      <th>0</th>\n",
       "      <td>True</td>\n",
       "      <td>95</td>\n",
       "      <td>True</td>\n",
       "      <td>control</td>\n",
       "    </tr>\n",
       "    <tr>\n",
       "      <th>1</th>\n",
       "      <td>True</td>\n",
       "      <td>373</td>\n",
       "      <td>True</td>\n",
       "      <td>control</td>\n",
       "    </tr>\n",
       "    <tr>\n",
       "      <th>2</th>\n",
       "      <td>True</td>\n",
       "      <td>294</td>\n",
       "      <td>True</td>\n",
       "      <td>control</td>\n",
       "    </tr>\n",
       "    <tr>\n",
       "      <th>3</th>\n",
       "      <td>True</td>\n",
       "      <td>47</td>\n",
       "      <td>True</td>\n",
       "      <td>control</td>\n",
       "    </tr>\n",
       "    <tr>\n",
       "      <th>4</th>\n",
       "      <td>True</td>\n",
       "      <td>206</td>\n",
       "      <td>True</td>\n",
       "      <td>control</td>\n",
       "    </tr>\n",
       "  </tbody>\n",
       "</table>\n",
       "</div>"
      ],
      "text/plain": [
       "   click  time_spent (min)  conversion       id\n",
       "0   True                95        True  control\n",
       "1   True               373        True  control\n",
       "2   True               294        True  control\n",
       "3   True                47        True  control\n",
       "4   True               206        True  control"
      ]
     },
     "execution_count": 280,
     "metadata": {},
     "output_type": "execute_result"
    }
   ],
   "source": [
    "ab_test.head()"
   ]
  },
  {
   "cell_type": "code",
   "execution_count": null,
   "metadata": {},
   "outputs": [],
   "source": [
    "# function to calculate rate for control and treatment\n",
    "def calculate_rate(df, test_col, identifier):\n",
    "    sum = 0\n",
    "    for i in ab_test[ab_test['id'] == identifier][test_col]:\n",
    "        if i == True:\n",
    "            sum += 1\n",
    "    ctr = sum / len(ab_test[ab_test['id'] == identifier])\n",
    "    return ctr\n",
    "\n",
    "## ctr_control_test = ab_test[ab_test['id'] == 'control']['click'].mean() #alternate method"
   ]
  },
  {
   "cell_type": "code",
   "execution_count": null,
   "metadata": {},
   "outputs": [
    {
     "data": {
      "text/plain": [
       "(0.651, 0.361)"
      ]
     },
     "execution_count": 286,
     "metadata": {},
     "output_type": "execute_result"
    }
   ],
   "source": [
    "# calculate clickthrough rate\n",
    "ctr_control = calculate_rate(ab_test, 'click', 'control') # calculate clickthrough rate for control\n",
    "ctr_treatment = calculate_rate(ab_test, 'click', 'treatment') # calculate clickthrough rate for treatment\n",
    "ctr_control, ctr_treatment\n"
   ]
  },
  {
   "cell_type": "code",
   "execution_count": null,
   "metadata": {},
   "outputs": [
    {
     "data": {
      "text/plain": [
       "(0.416, 0.125)"
      ]
     },
     "execution_count": 287,
     "metadata": {},
     "output_type": "execute_result"
    }
   ],
   "source": [
    "# calculate conversion rate\n",
    "cr_control = calculate_rate(ab_test, 'conversion', 'control') # calculate conversion rate for control\n",
    "cr_treatment = calculate_rate(ab_test, 'conversion', 'treatment') # calculate conversion rate for treatment\n",
    "cr_control, cr_treatment"
   ]
  },
  {
   "cell_type": "code",
   "execution_count": 297,
   "metadata": {},
   "outputs": [
    {
     "data": {
      "text/plain": [
       "(211.969, 204.998)"
      ]
     },
     "execution_count": 297,
     "metadata": {},
     "output_type": "execute_result"
    }
   ],
   "source": [
    "# average time spent\n",
    "ts_control_avg = ab_test[ab_test['id'] == 'control']['time_spent (min)'].mean()\n",
    "ts_treatment_avg = ab_test[ab_test['id'] == 'treatment']['time_spent (min)'].mean()\n",
    "ts_control_avg, ts_treatment_avg"
   ]
  },
  {
   "cell_type": "markdown",
   "metadata": {},
   "source": [
    "#  run a 2-proportion z-test using statsmodels:"
   ]
  },
  {
   "cell_type": "code",
   "execution_count": 293,
   "metadata": {},
   "outputs": [],
   "source": [
    "def two_proportion_z_test(successes, totals, alpha=0.05):\n",
    "    \"\"\"\n",
    "    Perform a two-proportion z-test to compare the proportions of two groups.\n",
    "    \n",
    "    Parameters:\n",
    "    - successes: List of successes in each group.\n",
    "    - totals: List of total trials in each group.\n",
    "    - alpha: Significance level (default is 0.05).\n",
    "    \n",
    "    Returns:\n",
    "    - A message indicating whether to reject or fail to reject the null hypothesis.\n",
    "    \"\"\"\n",
    "    # Perform the z-test\n",
    "    z_stat, p_value = sm.stats.proportions_ztest(successes, totals)\n",
    "\n",
    "    # Print the z-statistic and p-value\n",
    "    print(f\"Z-statistic: {z_stat}\")\n",
    "    print(f\"P-value: {p_value}\")\n",
    "\n",
    "    # Determine if we reject the null hypothesis\n",
    "    if p_value < alpha:\n",
    "        print(\"Reject the null hypothesis (statistically significant).\")\n",
    "    else:\n",
    "        print(\"Fail to reject the null hypothesis (not statistically significant).\")"
   ]
  },
  {
   "cell_type": "markdown",
   "metadata": {},
   "source": [
    "## 2-proportion z-test for click through rate"
   ]
  },
  {
   "cell_type": "code",
   "execution_count": 294,
   "metadata": {},
   "outputs": [
    {
     "name": "stdout",
     "output_type": "stream",
     "text": [
      "Z-statistic: 12.970128152346746\n",
      "P-value: 1.8072793011737103e-38\n",
      "Reject the null hypothesis (statistically significant).\n"
     ]
    }
   ],
   "source": [
    "ctr_successes = [651, 361]\n",
    "totals = [1000, 1000]\n",
    "\n",
    "two_proportion_z_test(ctr_successes, totals)"
   ]
  },
  {
   "cell_type": "markdown",
   "metadata": {},
   "source": [
    "## 2-proportion z-test for conversion"
   ]
  },
  {
   "cell_type": "code",
   "execution_count": 295,
   "metadata": {},
   "outputs": [
    {
     "name": "stdout",
     "output_type": "stream",
     "text": [
      "Z-statistic: 14.648113901616435\n",
      "P-value: 1.3850740997781642e-48\n",
      "Reject the null hypothesis (statistically significant).\n"
     ]
    }
   ],
   "source": [
    "ctr_successes = [416, 125]\n",
    "totals = [1000, 1000]\n",
    "\n",
    "two_proportion_z_test(ctr_successes, totals)"
   ]
  },
  {
   "cell_type": "markdown",
   "metadata": {},
   "source": [
    "## 2-proportion z-test for time spent"
   ]
  },
  {
   "cell_type": "code",
   "execution_count": 302,
   "metadata": {},
   "outputs": [
    {
     "name": "stdout",
     "output_type": "stream",
     "text": [
      "T-statistic: 1.3037083974846926\n",
      "P-value: 0.19248321510492067\n",
      "Fail to reject the null hypothesis (no significant change).\n"
     ]
    }
   ],
   "source": [
    "\n",
    "ts_control = np.array(ab_test[ab_test['id'] == 'control']['time_spent (min)'])\n",
    "ts_treatment = np.array(ab_test[ab_test['id'] == 'treatment']['time_spent (min)'])\n",
    "\n",
    "t_stat, p_value = stats.ttest_ind(ts_control, ts_treatment)\n",
    "\n",
    "# Print the results\n",
    "print(f\"T-statistic: {t_stat}\")\n",
    "print(f\"P-value: {p_value}\")\n",
    "\n",
    "# Set alpha (significance level)\n",
    "alpha = 0.05\n",
    "\n",
    "# Determine if we reject the null hypothesis\n",
    "if p_value < alpha:\n",
    "    print(\"Reject the null hypothesis (statistically significant change).\")\n",
    "else:\n",
    "    print(\"Fail to reject the null hypothesis (no significant change).\")"
   ]
  },
  {
   "cell_type": "markdown",
   "metadata": {},
   "source": [
    "# calculate effect size"
   ]
  },
  {
   "cell_type": "code",
   "execution_count": 304,
   "metadata": {},
   "outputs": [],
   "source": [
    "# function to calculate effect sizes\n",
    "def effect_size(control, treatment):\n",
    "    \"\"\"\n",
    "    Calculate the absolute and relative effect sizes based on the control and treatment group data.\n",
    "\n",
    "    Parameters:\n",
    "    - control: List or array of values from the control group.\n",
    "    - treatment: List or array of values from the treatment group.\n",
    "\n",
    "    Returns:\n",
    "    - A tuple containing the absolute effect size and relative effect size.\n",
    "    \"\"\"\n",
    "    \n",
    "    # Calculate Absolute Effect Size\n",
    "    absolute_effect_size = treatment - control\n",
    "    \n",
    "    # Calculate Relative Effect Size\n",
    "    relative_effect_size = absolute_effect_size / control if control != 0 else np.nan\n",
    "\n",
    "    print(f\"Absolute Effect Size: {absolute_effect_size}\")\n",
    "    print(f\"Relative Effect Size: {relative_effect_size}\")"
   ]
  },
  {
   "cell_type": "code",
   "execution_count": 305,
   "metadata": {},
   "outputs": [
    {
     "name": "stdout",
     "output_type": "stream",
     "text": [
      "Absolute Effect Size: -0.29000000000000004\n",
      "Relative Effect Size: -0.44546850998463905\n"
     ]
    }
   ],
   "source": [
    "# effect size for clip through rate\n",
    "effect_size(ctr_control, ctr_treatment)"
   ]
  },
  {
   "cell_type": "code",
   "execution_count": 306,
   "metadata": {},
   "outputs": [
    {
     "name": "stdout",
     "output_type": "stream",
     "text": [
      "Absolute Effect Size: -0.291\n",
      "Relative Effect Size: -0.6995192307692307\n"
     ]
    }
   ],
   "source": [
    "# effect size for conversion rate\n",
    "effect_size(cr_control, cr_treatment)"
   ]
  },
  {
   "cell_type": "code",
   "execution_count": 307,
   "metadata": {},
   "outputs": [
    {
     "name": "stdout",
     "output_type": "stream",
     "text": [
      "Absolute Effect Size: -6.971000000000004\n",
      "Relative Effect Size: -0.03288688440290799\n"
     ]
    }
   ],
   "source": [
    "# effect size for time spent\n",
    "effect_size(ts_control_avg, ts_treatment_avg)"
   ]
  },
  {
   "cell_type": "markdown",
   "metadata": {},
   "source": [
    "# Confidence interval"
   ]
  },
  {
   "cell_type": "code",
   "execution_count": 312,
   "metadata": {},
   "outputs": [],
   "source": [
    "def confidence_interval(control, treatment, confidence_level=0.95):\n",
    "    \"\"\"\n",
    "    Calculate the confidence interval for the difference in means (effect size)\n",
    "    between the control and treatment groups.\n",
    "\n",
    "    Parameters:\n",
    "    - control: List or array of values from the control group.\n",
    "    - treatment: List or array of values from the treatment group.\n",
    "    - confidence_level: The confidence level for the interval (default is 95%).\n",
    "\n",
    "    Returns:\n",
    "    - A tuple containing the lower and upper bounds of the confidence interval.\n",
    "    \"\"\"\n",
    "    # Calculate means\n",
    "    mean_control = np.mean(control)\n",
    "    mean_treatment = np.mean(treatment)\n",
    "    \n",
    "    # Calculate standard deviations\n",
    "    std_control = np.std(control, ddof=1)  # Sample standard deviation\n",
    "    std_treatment = np.std(treatment, ddof=1)\n",
    "    \n",
    "    # Calculate sample sizes\n",
    "    n_control = len(control)\n",
    "    n_treatment = len(treatment)\n",
    "    \n",
    "    # Calculate standard error\n",
    "    se = np.sqrt((std_control**2 / n_control) + (std_treatment**2 / n_treatment))\n",
    "    \n",
    "    # Calculate mean difference\n",
    "    mean_diff = mean_treatment - mean_control\n",
    "    \n",
    "    # Find the Z-score for the desired confidence level\n",
    "    z_score = stats.norm.ppf(1 - (1 - confidence_level) / 2)\n",
    "    \n",
    "    # Calculate the margin of error\n",
    "    margin_of_error = z_score * se\n",
    "    \n",
    "    # Calculate the confidence interval\n",
    "    lower_bound = mean_diff - margin_of_error\n",
    "    upper_bound = mean_diff + margin_of_error\n",
    "    print(f\"Confidence Interval for the Effect Size: ({lower_bound}, {upper_bound})\")\n",
    "    # return lower_bound, upper_bound\n"
   ]
  },
  {
   "cell_type": "code",
   "execution_count": 313,
   "metadata": {},
   "outputs": [
    {
     "name": "stdout",
     "output_type": "stream",
     "text": [
      "Confidence Interval for the Effect Size: (-0.3319604595073011, -0.24803954049269902)\n"
     ]
    }
   ],
   "source": [
    "# calculate CI for click through rate\n",
    "ctr_control_df = ab_test[ab_test['id'] == 'control']['click']\n",
    "ctr_treatment_df = ab_test[ab_test['id'] == 'treatment']['click']\n",
    "confidence_interval(ctr_control_df, ctr_treatment_df)"
   ]
  },
  {
   "cell_type": "code",
   "execution_count": 314,
   "metadata": {},
   "outputs": [
    {
     "name": "stdout",
     "output_type": "stream",
     "text": [
      "Confidence Interval for the Effect Size: (-0.3278072506980905, -0.25419274930190944)\n"
     ]
    }
   ],
   "source": [
    "# calculate CI for click through rate\n",
    "cr_control_df = ab_test[ab_test['id'] == 'control']['conversion']\n",
    "cr_treatment_df = ab_test[ab_test['id'] == 'treatment']['conversion']\n",
    "confidence_interval(cr_control_df, cr_treatment_df)"
   ]
  },
  {
   "cell_type": "code",
   "execution_count": null,
   "metadata": {},
   "outputs": [],
   "source": []
  },
  {
   "cell_type": "markdown",
   "metadata": {},
   "source": []
  }
 ],
 "metadata": {
  "kernelspec": {
   "display_name": "base",
   "language": "python",
   "name": "python3"
  },
  "language_info": {
   "codemirror_mode": {
    "name": "ipython",
    "version": 3
   },
   "file_extension": ".py",
   "mimetype": "text/x-python",
   "name": "python",
   "nbconvert_exporter": "python",
   "pygments_lexer": "ipython3",
   "version": "3.11.7"
  }
 },
 "nbformat": 4,
 "nbformat_minor": 2
}
